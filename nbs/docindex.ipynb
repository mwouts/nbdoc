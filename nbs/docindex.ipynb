{
 "cells": [
  {
   "cell_type": "code",
   "execution_count": null,
   "id": "4344ec50-4e1f-41e6-914e-7480bd7186e1",
   "metadata": {},
   "outputs": [],
   "source": [
    "#default_exp docindex"
   ]
  },
  {
   "cell_type": "markdown",
   "id": "e329ae76-9c56-42c9-ad59-da7a88fa770a",
   "metadata": {},
   "source": [
    "# docindex\n",
    "> Generate an index related to all entities rendered with `ShowDoc`"
   ]
  },
  {
   "cell_type": "code",
   "execution_count": 8,
   "id": "fc69cd09-d47e-4309-ab75-5a7c4107e23b",
   "metadata": {},
   "outputs": [],
   "source": [
    "#export\n",
    "from nbdev.export import nbglob, get_config\n",
    "from functools import partial\n",
    "from fastcore.utils import Path\n",
    "from fastcore.test import test_eq\n",
    "import re\n",
    "\n",
    "_re_name = re.compile(r'<DocSection type=\"\\S+\" name=\"(\\S+)\"')\n",
    "_re_slug = re.compile(r'---.*slug: (\\S+).*---', flags=re.DOTALL)"
   ]
  },
  {
   "cell_type": "code",
   "execution_count": 9,
   "id": "bb2bd79e-df8b-49e3-921f-94f56df7258a",
   "metadata": {},
   "outputs": [],
   "source": [
    "#hide\n",
    "from nbdoc.showdoc import ShowDoc\n",
    "import test_lib.example as ex"
   ]
  },
  {
   "cell_type": "code",
   "execution_count": 10,
   "id": "125fe470-65fc-484e-8377-8e319c2e0d12",
   "metadata": {},
   "outputs": [],
   "source": [
    "#hide\n",
    "p = Path('test_files/_md_files/test_docs.md')\n",
    "p.write_text(ShowDoc(ex.function_with_types_in_docstring).jsx)\n",
    "\n",
    "frontmatter = \"\"\"---\n",
    "key2: value2\n",
    "slug: custom/pathfor/site\n",
    "key: value\n",
    "---\n",
    "\"\"\"\n",
    "p = Path('test_files/_md_files/front_matter_test_docs.md')\n",
    "p.write_text(frontmatter + ShowDoc(ex.function_with_pep484_type_annotations).jsx);"
   ]
  },
  {
   "cell_type": "code",
   "execution_count": 11,
   "id": "1758a719-f5a9-4c62-b9d4-d1a78a90684c",
   "metadata": {},
   "outputs": [],
   "source": [
    "#export\n",
    "mdglob = partial(nbglob, recursive=True, extension='.md', config_key='doc_path')\n",
    "\n",
    "def build_index(path=None):\n",
    "    \"Build an index of names generated with `ShowDoc` to document paths.\"\n",
    "    cfg = get_config()\n",
    "    if path: \n",
    "        path = Path(path)\n",
    "    else:\n",
    "        path = cfg['doc_path']\n",
    "    \n",
    "    doc_host = cfg['doc_host']\n",
    "    base_url = cfg['doc_baseurl']\n",
    "    \n",
    "    if doc_host.endswith('/'): doc_host = doc_host[:-1]\n",
    "    if not base_url.startswith('/'): base_url = '/' + base_url\n",
    "    if not base_url.endswith('/'): base_url += '/'\n",
    "    doc_url = doc_host + base_url\n",
    "    \n",
    "    files = mdglob(path) if path else mdglob(config_key='doc_path')\n",
    "    reverse_idx = {}\n",
    "    for f in files:\n",
    "        txt = f.read_text()\n",
    "        names = _re_name.findall(txt)\n",
    "        slug_match = _re_slug.search(txt)\n",
    "        \n",
    "        if slug_match: \n",
    "            doc_path = slug_match.group(1)\n",
    "        else:\n",
    "            doc_path = str(f.relative_to(path).with_suffix(''))\n",
    "\n",
    "        for n in names: reverse_idx[n] = doc_url + doc_path\n",
    "    return reverse_idx"
   ]
  },
  {
   "cell_type": "markdown",
   "id": "9711d551-7622-4057-b48d-54fb0e0f3f39",
   "metadata": {},
   "source": [
    "`build_index` will build an index to names generated with `ShowDoc` to document paths that we can later use to construct links for documentation.\n",
    "\n",
    "Consider the follwing two markdown files, `test_docs.md` and `front_matter_with_test_docs.md`:"
   ]
  },
  {
   "cell_type": "code",
   "execution_count": 12,
   "id": "6097a231-84ac-4ce8-9286-bd6d9a94f158",
   "metadata": {},
   "outputs": [
    {
     "name": "stdout",
     "output_type": "stream",
     "text": [
      "<DocSection type=\"function\" name=\"function_with_types_in_docstring\" module=\"test_lib.example\" heading_level=\"3\">\n",
      "<SigArgSection>\n",
      "<SigArg name=\"param1\" /><SigArg name=\"param2\" />\n",
      "</SigArgSection>\n",
      "<Description summary=\"Example function with types documented in the docstring.\" extended_summary=\"`PEP 484`_ type annotations are supported. If attribute, parameter, and\\nreturn types are annotated according to `PEP 484`_, they do not need to be\\nincluded in the docstring:\" />\n",
      "<ParamSection name=\"Parameters\">\n",
      "\t<Parameter name=\"param1\" type=\"int\" desc=\"The first parameter. something something\\nsecond line. foo\" />\n",
      "\t<Parameter name=\"param2\" type=\"str\" desc=\"The second parameter.\" />\n",
      "</ParamSection>\n",
      "<ParamSection name=\"Returns\">\n",
      "\t<Parameter type=\"bool\" desc=\"True if successful, False otherwise.\" />\n",
      "</ParamSection>\n",
      "</DocSection>\n"
     ]
    }
   ],
   "source": [
    "_p1 = Path('test_files/_md_files/test_docs.md')\n",
    "print(_p1.read_text())"
   ]
  },
  {
   "cell_type": "code",
   "execution_count": 13,
   "id": "194cf906-88a7-4637-a0fb-34ec7b8c1026",
   "metadata": {},
   "outputs": [
    {
     "name": "stdout",
     "output_type": "stream",
     "text": [
      "---\n",
      "key2: value2\n",
      "slug: custom/pathfor/site\n",
      "key: value\n",
      "---\n",
      "<DocSection type=\"function\" name=\"function_with_pep484_type_annotations\" module=\"test_lib.example\" heading_level=\"3\">\n",
      "<SigArgSection>\n",
      "<SigArg name=\"param1\" type=\"int\" /><SigArg name=\"param2\" type=\"str\" />\n",
      "</SigArgSection>\n",
      "<Description summary=\"Example function with PEP 484 type annotations.\" extended_summary=\"The return type must be duplicated in the docstring to comply\\nwith the NumPy docstring style.\" />\n",
      "<ParamSection name=\"Parameters\">\n",
      "\t<Parameter name=\"param1\" desc=\"The first parameter.\" />\n",
      "\t<Parameter name=\"param2\" desc=\"The second parameter.\" />\n",
      "</ParamSection>\n",
      "<ParamSection name=\"Returns\">\n",
      "\t<Parameter type=\"bool\" desc=\"True if successful, False otherwise.\" />\n",
      "</ParamSection>\n",
      "</DocSection>\n"
     ]
    }
   ],
   "source": [
    "_p2 = Path('test_files/_md_files/front_matter_test_docs.md')\n",
    "print(_p2.read_text())"
   ]
  },
  {
   "cell_type": "markdown",
   "id": "9ab2c1ca-ae53-4680-b396-286f39169008",
   "metadata": {},
   "source": [
    "Notice that for `front_matter_test_docs.md`, the front matter has a `slug`, which is used for the path rather than the directory in which the document resides."
   ]
  },
  {
   "cell_type": "code",
   "execution_count": 14,
   "id": "b6bee4cd-ed1b-435b-bedc-1c87e3b9a9af",
   "metadata": {},
   "outputs": [],
   "source": [
    "test_eq(build_index('test_files/'), {'function_with_pep484_type_annotations': 'https://outerbounds.github.io/nbdoc/custom/pathfor/site',\n",
    "                                     'function_with_types_in_docstring': 'https://outerbounds.github.io/nbdoc/_md_files/test_docs'})"
   ]
  }
 ],
 "metadata": {
  "kernelspec": {
   "display_name": "Python 3.9.7 ('base')",
   "language": "python",
   "name": "python397jvsc74a57bd042fd40e048e0585f88ec242f050f7ef0895cf845a8dd1159352394e5826cd102"
  },
  "language_info": {
   "codemirror_mode": {
    "name": "ipython",
    "version": 3
   },
   "file_extension": ".py",
   "mimetype": "text/x-python",
   "name": "python",
   "nbconvert_exporter": "python",
   "pygments_lexer": "ipython3",
   "version": "3.9.7"
  }
 },
 "nbformat": 4,
 "nbformat_minor": 5
}
