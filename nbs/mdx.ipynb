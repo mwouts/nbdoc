{
 "cells": [
  {
   "cell_type": "code",
   "execution_count": 1,
   "id": "79ed0425-068a-4e9e-8ccf-245039ae8698",
   "metadata": {},
   "outputs": [],
   "source": [
    "#default_exp mdx"
   ]
  },
  {
   "cell_type": "markdown",
   "id": "43d60ddb-f5b2-4421-85ab-44843b8f5b1e",
   "metadata": {},
   "source": [
    "# Custom Preprocessors For MDX\n",
    "\n",
    "> Custom preprocessors that help convert notebook content into MDX\n",
    "\n",
    "This module defines [nbconvert.Custom Preprocessors](https://nbconvert.readthedocs.io/en/latest/nbconvert_library.html#Custom-Preprocessors) that facilitate transforming notebook content into MDX, which is a variation of markdown."
   ]
  },
  {
   "cell_type": "code",
   "execution_count": 2,
   "id": "6083efe3-5f2f-4751-be54-2a6387a62d93",
   "metadata": {},
   "outputs": [],
   "source": [
    "# export\n",
    "from nbconvert.preprocessors import Preprocessor\n",
    "from nbconvert import MarkdownExporter, NotebookExporter\n",
    "from nbconvert.preprocessors import TagRemovePreprocessor\n",
    "from nbdev.imports import get_config\n",
    "import traitlets\n",
    "from IPython.display import display, Markdown\n",
    "from traitlets.config import Config\n",
    "from pathlib import Path\n",
    "import re, os, json\n",
    "from fastcore.all import L, flatten\n",
    "from nbdev.export import read_nb"
   ]
  },
  {
   "cell_type": "code",
   "execution_count": 3,
   "id": "f0fca941",
   "metadata": {},
   "outputs": [],
   "source": [
    "#hide\n",
    "__file__ = str(get_config().path(\"lib_path\")/'preproc.py')"
   ]
  },
  {
   "cell_type": "code",
   "execution_count": 4,
   "id": "aa3fbd15-0078-4c3a-9c07-31249ce4dd59",
   "metadata": {},
   "outputs": [],
   "source": [
    "#hide\n",
    "def run_preprocessor(pp, nbfile, template_file='ob.tpl', display_results=False):\n",
    "    c = Config()\n",
    "    c.MarkdownExporter.preprocessors = pp\n",
    "    tmp_dir = Path(__file__).parent/'templates/'\n",
    "    tmp_file = tmp_dir/f\"{template_file}\"\n",
    "    c.MarkdownExporter.template_file = str(tmp_file)\n",
    "    exp =  MarkdownExporter(config=c)\n",
    "    result = exp.from_filename(nbfile)\n",
    "    if display_results: print(result[0])\n",
    "    return result"
   ]
  },
  {
   "cell_type": "code",
   "execution_count": 5,
   "id": "f01552dc-b795-4e79-93b8-33393f92e1c0",
   "metadata": {},
   "outputs": [],
   "source": [
    "#hide\n",
    "def show_plain_md(nbfile):\n",
    "    md = MarkdownExporter()\n",
    "    print(md.from_filename(nbfile)[0])"
   ]
  },
  {
   "cell_type": "code",
   "execution_count": 6,
   "id": "f8363c82-2730-4b7d-9a32-de66ec524b87",
   "metadata": {},
   "outputs": [],
   "source": [
    "#export\n",
    "_re_meta = r'^\\s*#cell_meta:\\S+\\s*[\\n\\r]'"
   ]
  },
  {
   "cell_type": "code",
   "execution_count": 7,
   "id": "8e8b4c57-43c3-407d-aa41-a7ec863617bf",
   "metadata": {},
   "outputs": [],
   "source": [
    "#export\n",
    "class InjectMeta(Preprocessor):\n",
    "    \"\"\"\n",
    "    Allows you to inject metadata into a cell for further preprocessing with a comment.\n",
    "    \"\"\"\n",
    "    pattern = r'(^\\s*#cell_meta:)(\\S+)(\\s*[\\n\\r])'\n",
    "    \n",
    "    def preprocess_cell(self, cell, resources, index):\n",
    "        if cell.cell_type == 'code' and re.search(_re_meta, cell.source):\n",
    "            cell_meta = re.findall(self.pattern, cell.source, re.MULTILINE)\n",
    "            d = cell.metadata.get('nbdoc', {})\n",
    "            for _, m, _ in cell_meta:\n",
    "                if '=' in m:\n",
    "                    k,v = m.split('=')\n",
    "                    d[k] = v\n",
    "                else: print(f\"Warning cell_meta:{m} does not have '=' will be ignored.\")\n",
    "            cell.metadata['nbdoc'] = d\n",
    "        return cell, resources"
   ]
  },
  {
   "cell_type": "markdown",
   "id": "109942b9-6af1-4bee-b1fe-e5677857d151",
   "metadata": {},
   "source": [
    "To inject metadata make a comment in a cell with the following pattern: '#cell_meta:{key=value}'\n",
    "\n",
    "For example, consider the following code:"
   ]
  },
  {
   "cell_type": "code",
   "execution_count": 8,
   "id": "90d60081-e886-467a-9f53-b64a1f3bd4d7",
   "metadata": {},
   "outputs": [
    {
     "name": "stdout",
     "output_type": "stream",
     "text": [
      "#cell_meta:show_steps=start,train\n",
      "print('hello world')\n"
     ]
    }
   ],
   "source": [
    "_test_file = 'test_files/hello_world.ipynb'\n",
    "first_cell = read_nb(_test_file)['cells'][0]\n",
    "print(first_cell['source'])"
   ]
  },
  {
   "cell_type": "markdown",
   "id": "fc8b719e-3fed-4cef-9b11-49b684f38185",
   "metadata": {},
   "source": [
    "At the moment, this cell has no metadata:"
   ]
  },
  {
   "cell_type": "code",
   "execution_count": 9,
   "id": "9ed0b000-ce00-470d-be1b-286fd9aeddd8",
   "metadata": {},
   "outputs": [
    {
     "name": "stdout",
     "output_type": "stream",
     "text": [
      "{}\n"
     ]
    }
   ],
   "source": [
    "print(first_cell['metadata'])"
   ]
  },
  {
   "cell_type": "markdown",
   "id": "d739a476-b659-4e4b-93db-c3df2fc11b33",
   "metadata": {},
   "source": [
    "However, after we process this notebook with `InjectMeta`, the appropriate metadata will be injected:"
   ]
  },
  {
   "cell_type": "code",
   "execution_count": 10,
   "id": "0705cfea-6abb-4bfe-8225-e04c32c6eb75",
   "metadata": {},
   "outputs": [
    {
     "data": {
      "text/plain": [
       "{'nbdoc': {'show_steps': 'start,train'}}"
      ]
     },
     "execution_count": 10,
     "metadata": {},
     "output_type": "execute_result"
    }
   ],
   "source": [
    "c = Config()\n",
    "c.NotebookExporter.preprocessors = [InjectMeta]\n",
    "exp = NotebookExporter(config=c)\n",
    "cells, _ = exp.from_filename(_test_file)\n",
    "first_cell = json.loads(cells)['cells'][0]\n",
    "\n",
    "assert first_cell['metadata'] == {'nbdoc': {'show_steps': 'start,train'}}\n",
    "first_cell['metadata']"
   ]
  },
  {
   "cell_type": "code",
   "execution_count": 11,
   "id": "49e88052-a655-4fc4-9a8d-8133bb9712d5",
   "metadata": {},
   "outputs": [],
   "source": [
    "#export\n",
    "class MetaflowPreamble(Preprocessor):\n",
    "    \"\"\"Remove the preamble from Metaflow output.\"\"\"\n",
    "    pattern = r'([\\s\\S]*Metaflow[\\s\\S]*Validating[\\s\\S]+The graph[\\s\\S]+)(\\n[\\s\\S]+Workflow starting[\\s\\S]+)'\n",
    "    ansi_escape = re.compile(r'\\x1B(?:[@-Z\\\\-_]|\\[[0-?]*[ -/]*[@-~])')\n",
    "    \n",
    "    def preprocess_cell(self, cell, resources, index):\n",
    "        if re.search('\\s*python.+run.*', cell.source) and 'outputs' in cell:\n",
    "            for o in cell.outputs:\n",
    "                if o.name == 'stdout':\n",
    "                    o['text'] = self.ansi_escape.sub('', re.sub(self.pattern, r'\\2', o.text)).strip()\n",
    "        return cell, resources"
   ]
  },
  {
   "cell_type": "markdown",
   "id": "0305ba43-5b37-44c9-a1f1-f9701599b127",
   "metadata": {},
   "source": [
    "When you run a metaflow Flow, you are presented with a fair amount of boilerpalte before the job starts running that is not necesary to show in the documentation:"
   ]
  },
  {
   "cell_type": "code",
   "execution_count": 12,
   "id": "94459a98-cd0c-417e-bf68-452aee6c7f3d",
   "metadata": {},
   "outputs": [
    {
     "name": "stdout",
     "output_type": "stream",
     "text": [
      "```python\n",
      "!python myflow.py run\n",
      "```\n",
      "\n",
      "    \u001b[35m\u001b[1mMetaflow 2.5.0.post6+git62f5e52\u001b[0m\u001b[35m\u001b[22m executing \u001b[0m\u001b[31m\u001b[1mMyFlow\u001b[0m\u001b[35m\u001b[22m\u001b[0m\u001b[35m\u001b[22m for \u001b[0m\u001b[31m\u001b[1muser:hamel\u001b[0m\u001b[35m\u001b[22m\u001b[K\u001b[0m\u001b[35m\u001b[22m\u001b[0m\n",
      "    \u001b[35m\u001b[22mValidating your flow...\u001b[K\u001b[0m\u001b[35m\u001b[22m\u001b[0m\n",
      "    \u001b[32m\u001b[1m    The graph looks good!\u001b[K\u001b[0m\u001b[32m\u001b[1m\u001b[0m\n",
      "    \u001b[35m\u001b[22mRunning pylint...\u001b[K\u001b[0m\u001b[35m\u001b[22m\u001b[0m\n",
      "    \u001b[32m\u001b[1m    Pylint is happy!\u001b[K\u001b[0m\u001b[32m\u001b[1m\u001b[0m\n",
      "    \u001b[35m2022-02-15 13:57:54.075 \u001b[0m\u001b[1mWorkflow starting (run-id 1644962274071949):\u001b[0m\n",
      "    \u001b[35m2022-02-15 13:57:54.084 \u001b[0m\u001b[32m[1644962274071949/start/1 (pid 46643)] \u001b[0m\u001b[1mTask is starting.\u001b[0m\n",
      "    \u001b[35m2022-02-15 13:57:54.703 \u001b[0m\u001b[32m[1644962274071949/start/1 (pid 46643)] \u001b[0m\u001b[22mthis is the start\u001b[0m\n",
      "    \u001b[35m2022-02-15 13:57:54.771 \u001b[0m\u001b[32m[1644962274071949/start/1 (pid 46643)] \u001b[0m\u001b[1mTask finished successfully.\u001b[0m\n",
      "    \u001b[35m2022-02-15 13:57:54.779 \u001b[0m\u001b[32m[1644962274071949/train/2 (pid 46648)] \u001b[0m\u001b[1mTask is starting.\u001b[0m\n",
      "    \u001b[35m2022-02-15 13:57:55.412 \u001b[0m\u001b[32m[1644962274071949/train/2 (pid 46648)] \u001b[0m\u001b[22mthe train step\u001b[0m\n",
      "    \u001b[35m2022-02-15 13:57:55.483 \u001b[0m\u001b[32m[1644962274071949/train/2 (pid 46648)] \u001b[0m\u001b[1mTask finished successfully.\u001b[0m\n",
      "    \u001b[35m2022-02-15 13:57:55.491 \u001b[0m\u001b[32m[1644962274071949/end/3 (pid 46653)] \u001b[0m\u001b[1mTask is starting.\u001b[0m\n",
      "    \u001b[35m2022-02-15 13:57:56.121 \u001b[0m\u001b[32m[1644962274071949/end/3 (pid 46653)] \u001b[0m\u001b[22mthis is the end\u001b[0m\n",
      "    \u001b[35m2022-02-15 13:57:56.189 \u001b[0m\u001b[32m[1644962274071949/end/3 (pid 46653)] \u001b[0m\u001b[1mTask finished successfully.\u001b[0m\n",
      "    \u001b[35m2022-02-15 13:57:56.190 \u001b[0m\u001b[1mDone!\u001b[0m\n",
      "    \u001b[0m\n",
      "\n"
     ]
    }
   ],
   "source": [
    "show_plain_md('test_files/run_flow.ipynb')"
   ]
  },
  {
   "cell_type": "markdown",
   "id": "f72a1f48-0894-414e-9b4d-54c76715407c",
   "metadata": {},
   "source": [
    "We want to strip this output as well as the superflous clolors, which we can do with the `MetaflowPreamble` preprocessor:"
   ]
  },
  {
   "cell_type": "code",
   "execution_count": 13,
   "id": "cee52196-4732-4365-9d20-7576203e559c",
   "metadata": {},
   "outputs": [
    {
     "name": "stdout",
     "output_type": "stream",
     "text": [
      "```python\n",
      "!python myflow.py run\n",
      "```\n",
      "\n",
      "    2022-02-15 13:57:54.075 Workflow starting (run-id 1644962274071949):\n",
      "    2022-02-15 13:57:54.084 [1644962274071949/start/1 (pid 46643)] Task is starting.\n",
      "    2022-02-15 13:57:54.703 [1644962274071949/start/1 (pid 46643)] this is the start\n",
      "    2022-02-15 13:57:54.771 [1644962274071949/start/1 (pid 46643)] Task finished successfully.\n",
      "    2022-02-15 13:57:54.779 [1644962274071949/train/2 (pid 46648)] Task is starting.\n",
      "    2022-02-15 13:57:55.412 [1644962274071949/train/2 (pid 46648)] the train step\n",
      "    2022-02-15 13:57:55.483 [1644962274071949/train/2 (pid 46648)] Task finished successfully.\n",
      "    2022-02-15 13:57:55.491 [1644962274071949/end/3 (pid 46653)] Task is starting.\n",
      "    2022-02-15 13:57:56.121 [1644962274071949/end/3 (pid 46653)] this is the end\n",
      "    2022-02-15 13:57:56.189 [1644962274071949/end/3 (pid 46653)] Task finished successfully.\n",
      "    2022-02-15 13:57:56.190 Done!\n",
      "\n"
     ]
    }
   ],
   "source": [
    "c, _ = run_preprocessor([MetaflowPreamble], 'test_files/run_flow.ipynb', display_results=True)\n",
    "assert 'Validating your flow...' not in c"
   ]
  },
  {
   "cell_type": "code",
   "execution_count": 29,
   "id": "07e91ad8-519f-456d-8aa6-5b5266964816",
   "metadata": {},
   "outputs": [],
   "source": [
    "#export\n",
    "class MetaflowSelectSteps(Preprocessor):\n",
    "    \"\"\"\n",
    "    Hide Metaflow steps in output based on cell metadata.\n",
    "    \"\"\"\n",
    "    re_step = r'.*\\d+/{0}/\\d+\\s\\(pid\\s\\d+\\).*'\n",
    "    \n",
    "    def preprocess_cell(self, cell, resources, index):\n",
    "        # import ipdb; ipdb.set_trace()\n",
    "        steps = cell.metadata.get('nbdoc', {}).get('show_steps')\n",
    "        if re.search('\\s*python.+run.*', cell.source) and 'outputs' in cell and steps:\n",
    "            for o in cell.outputs:\n",
    "                if o.name == 'stdout':\n",
    "                    final_steps = []\n",
    "                    for s in steps.split(','):\n",
    "                        found_steps = re.compile(self.re_step.format(s)).findall(o['text'])\n",
    "                        if found_steps: \n",
    "                            final_steps += found_steps + ['...']\n",
    "                    o['text'] = '\\n'.join(final_steps)\n",
    "        return cell, resources"
   ]
  },
  {
   "cell_type": "markdown",
   "id": "a6d70848-1bd7-4989-b8d7-037260194e76",
   "metadata": {},
   "source": [
    "`MetaflowSelectSteps` is meant to be used with `InjectMeta` to only show specific steps in the output logs from Metaflow.  \n",
    "\n",
    "For example, if you want to only show the `start` and `train` steps in your flow, you would annotate your cell with the following pattern: `#cell_meta:show_steps=<step_name>`\n",
    "\n",
    "In the below example, `#cell_meta:show_steps=start,train` shows the `start` and `train` steps, whereas `#cell_meta:show_steps=train` only shows the `train` step:"
   ]
  },
  {
   "cell_type": "code",
   "execution_count": 15,
   "id": "89a2a6fb-371b-4a22-a0a5-6223ed7d84d4",
   "metadata": {},
   "outputs": [
    {
     "name": "stdout",
     "output_type": "stream",
     "text": [
      "```python\n",
      "#cell_meta:show_steps=start,train\n",
      "!python myflow.py run\n",
      "```\n",
      "\n",
      "    \u001b[35m2022-02-15 14:01:14.810 \u001b[0m\u001b[32m[1644962474801237/start/1 (pid 46758)] \u001b[0m\u001b[1mTask is starting.\u001b[0m\n",
      "    \u001b[35m2022-02-15 14:01:15.433 \u001b[0m\u001b[32m[1644962474801237/start/1 (pid 46758)] \u001b[0m\u001b[22mthis is the start\u001b[0m\n",
      "    \u001b[35m2022-02-15 14:01:15.500 \u001b[0m\u001b[32m[1644962474801237/start/1 (pid 46758)] \u001b[0m\u001b[1mTask finished successfully.\u001b[0m\n",
      "    ...\n",
      "    \u001b[35m2022-02-15 14:01:15.507 \u001b[0m\u001b[32m[1644962474801237/train/2 (pid 46763)] \u001b[0m\u001b[1mTask is starting.\u001b[0m\n",
      "    \u001b[35m2022-02-15 14:01:16.123 \u001b[0m\u001b[32m[1644962474801237/train/2 (pid 46763)] \u001b[0m\u001b[22mthe train step\u001b[0m\n",
      "    \u001b[35m2022-02-15 14:01:16.188 \u001b[0m\u001b[32m[1644962474801237/train/2 (pid 46763)] \u001b[0m\u001b[1mTask finished successfully.\u001b[0m\n",
      "    ...\n",
      "\n",
      "\n",
      "```python\n",
      "#cell_meta:show_steps=train\n",
      "!python myflow.py run\n",
      "```\n",
      "\n",
      "    \u001b[35m2022-02-15 14:01:18.924 \u001b[0m\u001b[32m[1644962478210532/train/2 (pid 46783)] \u001b[0m\u001b[1mTask is starting.\u001b[0m\n",
      "    \u001b[35m2022-02-15 14:01:19.566 \u001b[0m\u001b[32m[1644962478210532/train/2 (pid 46783)] \u001b[0m\u001b[22mthe train step\u001b[0m\n",
      "    \u001b[35m2022-02-15 14:01:19.632 \u001b[0m\u001b[32m[1644962478210532/train/2 (pid 46783)] \u001b[0m\u001b[1mTask finished successfully.\u001b[0m\n",
      "    ...\n",
      "\n"
     ]
    }
   ],
   "source": [
    "c, _ = run_preprocessor([InjectMeta, MetaflowSelectSteps], \n",
    "                        'test_files/run_flow_showstep.ipynb', \n",
    "                        display_results=True)\n",
    "assert 'end' not in c"
   ]
  },
  {
   "cell_type": "code",
   "execution_count": 16,
   "id": "2bfbc6c1-3934-45ac-8324-c859a9941d37",
   "metadata": {},
   "outputs": [],
   "source": [
    "#export\n",
    "class WriteTitle(Preprocessor):\n",
    "    \"\"\"Modify the code-fence with the filename upon %%writefile cell magic.\"\"\"\n",
    "    pattern = r'(^[\\S\\s]*%%writefile\\s)(\\S+)\\n'\n",
    "    \n",
    "    def preprocess_cell(self, cell, resources, index):\n",
    "        m = re.match(self.pattern, cell.source)\n",
    "        if m: \n",
    "            filename = m.group(2)\n",
    "            ext = filename.split('.')[-1]\n",
    "            cell.metadata.magics_language = f'{ext} title=\"{filename}\"'\n",
    "            cell.outputs = []\n",
    "        return cell, resources"
   ]
  },
  {
   "cell_type": "markdown",
   "id": "be90ef2f-f24e-4b56-89dd-7de37eefe461",
   "metadata": {},
   "source": [
    "`WriteTitle` creates the proper code-fence with a title in the situation where the `%%writefile` magic is used.\n",
    "\n",
    "For example, here are contents before pre-processing:"
   ]
  },
  {
   "cell_type": "code",
   "execution_count": 17,
   "id": "a7f6cf89-9ea3-4748-91a5-99a84675f746",
   "metadata": {},
   "outputs": [
    {
     "name": "stdout",
     "output_type": "stream",
     "text": [
      "A test notebook\n",
      "\n",
      "\n",
      "```python\n",
      "%%writefile myflow.py\n",
      "from metaflow import FlowSpec, step\n",
      "\n",
      "class MyFlow(FlowSpec):\n",
      "    \n",
      "    @step\n",
      "    def start(self):\n",
      "        print('this is the start')\n",
      "        self.next(self.train)\n",
      "    \n",
      "    @step\n",
      "    def train(self):\n",
      "        print('the train step')\n",
      "        self.next(self.end)\n",
      "    \n",
      "    @step\n",
      "    def end(self):\n",
      "        print('this is the end')\n",
      "\n",
      "if __name__ == '__main__':\n",
      "    MyFlow()\n",
      "```\n",
      "\n",
      "    Overwriting myflow.py\n",
      "\n",
      "\n",
      "\n",
      "```python\n",
      "%%writefile hello.txt\n",
      "\n",
      "Hello World\n",
      "```\n",
      "\n",
      "    Overwriting hello.txt\n",
      "\n",
      "\n"
     ]
    }
   ],
   "source": [
    "show_plain_md('test_files/writefile.ipynb')"
   ]
  },
  {
   "cell_type": "markdown",
   "id": "7cbf3b82-1e22-47bb-9953-30aee77748c9",
   "metadata": {},
   "source": [
    "When we use `WriteTitle`, you will see the code-fence will change appropriately:"
   ]
  },
  {
   "cell_type": "code",
   "execution_count": 18,
   "id": "4c60a30d-d972-4b00-afd5-f0253670ac1a",
   "metadata": {},
   "outputs": [
    {
     "name": "stdout",
     "output_type": "stream",
     "text": [
      "A test notebook\n",
      "\n",
      "\n",
      "```py title=\"myflow.py\"\n",
      "%%writefile myflow.py\n",
      "from metaflow import FlowSpec, step\n",
      "\n",
      "class MyFlow(FlowSpec):\n",
      "    \n",
      "    @step\n",
      "    def start(self):\n",
      "        print('this is the start')\n",
      "        self.next(self.train)\n",
      "    \n",
      "    @step\n",
      "    def train(self):\n",
      "        print('the train step')\n",
      "        self.next(self.end)\n",
      "    \n",
      "    @step\n",
      "    def end(self):\n",
      "        print('this is the end')\n",
      "\n",
      "if __name__ == '__main__':\n",
      "    MyFlow()\n",
      "```\n",
      "\n",
      "\n",
      "```txt title=\"hello.txt\"\n",
      "%%writefile hello.txt\n",
      "\n",
      "Hello World\n",
      "```\n",
      "\n"
     ]
    }
   ],
   "source": [
    "c, _ = run_preprocessor([WriteTitle], 'test_files/writefile.ipynb', display_results=True)\n",
    "assert '```py title=\"myflow.py\"' in c and '```txt title=\"hello.txt\"' in c"
   ]
  },
  {
   "cell_type": "code",
   "execution_count": 19,
   "id": "848fd452-3d63-4c41-aaa6-e14cbeb9fdcd",
   "metadata": {},
   "outputs": [],
   "source": [
    "#export\n",
    "class CleanMagics(Preprocessor):\n",
    "    \"\"\"A preprocessor to remove cell magic commands and #cell_meta: comments\"\"\"\n",
    "    pattern = r'(^\\s*(%%|%).+?[\\n\\r])|({0})'.format(_re_meta)\n",
    "    \n",
    "    def preprocess_cell(self, cell, resources, index):\n",
    "        if cell.cell_type == 'code': \n",
    "            cell.source = re.sub(self.pattern, '', cell.source).strip()\n",
    "        return cell, resources"
   ]
  },
  {
   "cell_type": "markdown",
   "id": "71917138-14f7-4c00-a864-76889b333cd7",
   "metadata": {},
   "source": [
    "`CleanMagics` strips magic cell commands `%%` so they do not appear in rendered markdown files:"
   ]
  },
  {
   "cell_type": "code",
   "execution_count": 20,
   "id": "386c787c-9623-4d5c-b4c6-9bfcd822fb56",
   "metadata": {},
   "outputs": [
    {
     "name": "stdout",
     "output_type": "stream",
     "text": [
      "A test notebook\n",
      "\n",
      "\n",
      "```py title=\"myflow.py\"\n",
      "from metaflow import FlowSpec, step\n",
      "\n",
      "class MyFlow(FlowSpec):\n",
      "    \n",
      "    @step\n",
      "    def start(self):\n",
      "        print('this is the start')\n",
      "        self.next(self.train)\n",
      "    \n",
      "    @step\n",
      "    def train(self):\n",
      "        print('the train step')\n",
      "        self.next(self.end)\n",
      "    \n",
      "    @step\n",
      "    def end(self):\n",
      "        print('this is the end')\n",
      "\n",
      "if __name__ == '__main__':\n",
      "    MyFlow()\n",
      "```\n",
      "\n",
      "\n",
      "```txt title=\"hello.txt\"\n",
      "Hello World\n",
      "```\n",
      "\n"
     ]
    }
   ],
   "source": [
    "c, _ = run_preprocessor([WriteTitle, CleanMagics], 'test_files/writefile.ipynb', display_results=True)\n",
    "assert '%%' not in c"
   ]
  },
  {
   "cell_type": "markdown",
   "id": "e228e426-3cbc-4263-b71c-6533e08c7b9b",
   "metadata": {},
   "source": [
    "Here is how `CleanMagics` Works on the file with the Metaflow log outputs from earlier, we can see that the `#cell_meta` comments are gone:"
   ]
  },
  {
   "cell_type": "code",
   "execution_count": 21,
   "id": "5df07131-3adc-4034-a633-e4abb737aa95",
   "metadata": {},
   "outputs": [
    {
     "name": "stdout",
     "output_type": "stream",
     "text": [
      "```python\n",
      "!python myflow.py run\n",
      "```\n",
      "\n",
      "    \u001b[35m2022-02-15 14:01:14.810 \u001b[0m\u001b[32m[1644962474801237/start/1 (pid 46758)] \u001b[0m\u001b[1mTask is starting.\u001b[0m\n",
      "    \u001b[35m2022-02-15 14:01:15.433 \u001b[0m\u001b[32m[1644962474801237/start/1 (pid 46758)] \u001b[0m\u001b[22mthis is the start\u001b[0m\n",
      "    \u001b[35m2022-02-15 14:01:15.500 \u001b[0m\u001b[32m[1644962474801237/start/1 (pid 46758)] \u001b[0m\u001b[1mTask finished successfully.\u001b[0m\n",
      "    ...\n",
      "    \u001b[35m2022-02-15 14:01:15.507 \u001b[0m\u001b[32m[1644962474801237/train/2 (pid 46763)] \u001b[0m\u001b[1mTask is starting.\u001b[0m\n",
      "    \u001b[35m2022-02-15 14:01:16.123 \u001b[0m\u001b[32m[1644962474801237/train/2 (pid 46763)] \u001b[0m\u001b[22mthe train step\u001b[0m\n",
      "    \u001b[35m2022-02-15 14:01:16.188 \u001b[0m\u001b[32m[1644962474801237/train/2 (pid 46763)] \u001b[0m\u001b[1mTask finished successfully.\u001b[0m\n",
      "    ...\n",
      "\n",
      "\n",
      "```python\n",
      "!python myflow.py run\n",
      "```\n",
      "\n",
      "    \u001b[35m2022-02-15 14:01:18.924 \u001b[0m\u001b[32m[1644962478210532/train/2 (pid 46783)] \u001b[0m\u001b[1mTask is starting.\u001b[0m\n",
      "    \u001b[35m2022-02-15 14:01:19.566 \u001b[0m\u001b[32m[1644962478210532/train/2 (pid 46783)] \u001b[0m\u001b[22mthe train step\u001b[0m\n",
      "    \u001b[35m2022-02-15 14:01:19.632 \u001b[0m\u001b[32m[1644962478210532/train/2 (pid 46783)] \u001b[0m\u001b[1mTask finished successfully.\u001b[0m\n",
      "    ...\n",
      "\n"
     ]
    }
   ],
   "source": [
    "c, _ = run_preprocessor([InjectMeta, MetaflowSelectSteps, CleanMagics], \n",
    "                        'test_files/run_flow_showstep.ipynb', display_results=True)"
   ]
  },
  {
   "cell_type": "code",
   "execution_count": 22,
   "id": "664c2b21-7c1e-4bba-8163-96c6f5e97baa",
   "metadata": {},
   "outputs": [],
   "source": [
    "#hide\n",
    "c, _ = run_preprocessor([WriteTitle, CleanMagics], 'test_files/hello_world.ipynb')\n",
    "assert '#cell_meta' not in c"
   ]
  },
  {
   "cell_type": "code",
   "execution_count": 23,
   "id": "97249bda-91dd-42ef-9d36-5efc45fad564",
   "metadata": {},
   "outputs": [],
   "source": [
    "#export\n",
    "class BashIdentify(Preprocessor):\n",
    "    \"\"\"A preprocessor to identify bash commands and mark them appropriately\"\"\"\n",
    "    pattern = '^\\s*!'\n",
    "    \n",
    "    def preprocess_cell(self, cell, resources, index):\n",
    "        if cell.cell_type == 'code' and re.search(self.pattern, cell.source):\n",
    "            cell.metadata.magics_language = 'bash'\n",
    "            cell.source = re.sub(self.pattern, '', cell.source).strip()\n",
    "        return cell, resources"
   ]
  },
  {
   "cell_type": "markdown",
   "id": "36ffc28f-1735-48ac-942a-74c692afa99b",
   "metadata": {},
   "source": [
    "When we issue a shell command in a notebook with `!`, we need to change the code-fence from `python` to `bash` and remove the `!`:"
   ]
  },
  {
   "cell_type": "code",
   "execution_count": 24,
   "id": "98afbdae-b121-4631-a4ea-69b339b8a077",
   "metadata": {},
   "outputs": [
    {
     "name": "stdout",
     "output_type": "stream",
     "text": [
      "```bash\n",
      "python myflow.py run\n",
      "```\n",
      "\n",
      "    2022-02-15 13:57:54.075 Workflow starting (run-id 1644962274071949):\n",
      "    2022-02-15 13:57:54.084 [1644962274071949/start/1 (pid 46643)] Task is starting.\n",
      "    2022-02-15 13:57:54.703 [1644962274071949/start/1 (pid 46643)] this is the start\n",
      "    2022-02-15 13:57:54.771 [1644962274071949/start/1 (pid 46643)] Task finished successfully.\n",
      "    2022-02-15 13:57:54.779 [1644962274071949/train/2 (pid 46648)] Task is starting.\n",
      "    2022-02-15 13:57:55.412 [1644962274071949/train/2 (pid 46648)] the train step\n",
      "    2022-02-15 13:57:55.483 [1644962274071949/train/2 (pid 46648)] Task finished successfully.\n",
      "    2022-02-15 13:57:55.491 [1644962274071949/end/3 (pid 46653)] Task is starting.\n",
      "    2022-02-15 13:57:56.121 [1644962274071949/end/3 (pid 46653)] this is the end\n",
      "    2022-02-15 13:57:56.189 [1644962274071949/end/3 (pid 46653)] Task finished successfully.\n",
      "    2022-02-15 13:57:56.190 Done!\n",
      "\n"
     ]
    }
   ],
   "source": [
    "c, _ = run_preprocessor([MetaflowPreamble, BashIdentify], 'test_files/run_flow.ipynb', display_results=True)\n",
    "assert \"```bash\" in c and '!python' not in c"
   ]
  },
  {
   "cell_type": "markdown",
   "id": "7ce327f3-4bfd-4268-8224-7ce8c299aa0c",
   "metadata": {},
   "source": [
    "## Composing Preprocessors Into A Pipeline\n",
    "\n",
    "Lets see how you can compose all of these preprocessors together to process notebooks appropriately:"
   ]
  },
  {
   "cell_type": "code",
   "execution_count": 25,
   "id": "fac43e18-9e51-4ede-af74-3c5d710925a1",
   "metadata": {},
   "outputs": [],
   "source": [
    "#export\n",
    "def get_mdx_exporter(template_file='ob.tpl'):\n",
    "    \"\"\"A mdx notebook exporter which composes many pre-processors together.\"\"\"\n",
    "    c = Config()\n",
    "    c.TagRemovePreprocessor.remove_cell_tags = (\"remove_cell\",)\n",
    "    c.TagRemovePreprocessor.remove_all_outputs_tags = ('remove_output',)\n",
    "    c.TagRemovePreprocessor.remove_input_tags = ('remove_input',)\n",
    "    c.MarkdownExporter.preprocessors = [InjectMeta, WriteTitle, CleanMagics, BashIdentify, MetaflowPreamble, MetaflowSelectSteps]\n",
    "    tmp_dir = Path(__file__).parent/'templates/'\n",
    "    tmp_file = tmp_dir/f\"{template_file}\"\n",
    "    if not tmp_file.exists(): raise ValueError(f\"{tmp_file} does not exist in {tmp_dir}\")\n",
    "    c.MarkdownExporter.template_file = str(tmp_file)\n",
    "    return MarkdownExporter(config=c)"
   ]
  },
  {
   "cell_type": "markdown",
   "id": "744165eb-e905-44b6-9899-bf11e3ea7b2c",
   "metadata": {},
   "source": [
    "`get_mdx_exporter` combines all of the previous preprocessors, along with the built in `TagRemovePreprocessor` to allow for hiding cell inputs/outputs based on cell tags.  Here is an example of markdown generated from a notebook with the default preprocessing:"
   ]
  },
  {
   "cell_type": "code",
   "execution_count": 26,
   "id": "566210d4-eef0-47ae-a6a5-c269089c7df5",
   "metadata": {},
   "outputs": [
    {
     "name": "stdout",
     "output_type": "stream",
     "text": [
      "---\n",
      "title: my hello page title\n",
      "description: my hello page description\n",
      "hide_table_of_contents: true\n",
      "---\n",
      "## This is a test notebook\n",
      "\n",
      "This is a shell command:\n",
      "\n",
      "\n",
      "```python\n",
      "! echo hello\n",
      "```\n",
      "\n",
      "    hello\n",
      "\n",
      "\n",
      "We are writing a python script to disk:\n",
      "\n",
      "\n",
      "```python\n",
      "%%writefile myflow.py\n",
      "\n",
      "from metaflow import FlowSpec, step\n",
      "\n",
      "class MyFlow(FlowSpec):\n",
      "    \n",
      "    @step\n",
      "    def start(self):\n",
      "        print('this is the start')\n",
      "        self.next(self.end)\n",
      "    \n",
      "    @step\n",
      "    def end(self):\n",
      "        print('this is the end')\n",
      "\n",
      "if __name__ == '__main__':\n",
      "    MyFlow()\n",
      "```\n",
      "\n",
      "    Overwriting myflow.py\n",
      "\n",
      "\n",
      "Another shell command where we run a flow:\n",
      "\n",
      "\n",
      "```python\n",
      "#cell_meta:show_steps=start\n",
      "! python myflow.py run\n",
      "```\n",
      "\n",
      "    \u001b[35m\u001b[1mMetaflow 2.5.0.post6+git62f5e52\u001b[0m\u001b[35m\u001b[22m executing \u001b[0m\u001b[31m\u001b[1mMyFlow\u001b[0m\u001b[35m\u001b[22m\u001b[0m\u001b[35m\u001b[22m for \u001b[0m\u001b[31m\u001b[1muser:hamel\u001b[0m\u001b[35m\u001b[22m\u001b[K\u001b[0m\u001b[35m\u001b[22m\u001b[0m\n",
      "    \u001b[35m\u001b[22mValidating your flow...\u001b[K\u001b[0m\u001b[35m\u001b[22m\u001b[0m\n",
      "    \u001b[32m\u001b[1m    The graph looks good!\u001b[K\u001b[0m\u001b[32m\u001b[1m\u001b[0m\n",
      "    \u001b[35m\u001b[22mRunning pylint...\u001b[K\u001b[0m\u001b[35m\u001b[22m\u001b[0m\n",
      "    \u001b[32m\u001b[1m    Pylint is happy!\u001b[K\u001b[0m\u001b[32m\u001b[1m\u001b[0m\n",
      "    \u001b[35m2022-02-15 14:11:09.216 \u001b[0m\u001b[1mWorkflow starting (run-id 1644963069213536):\u001b[0m\n",
      "    \u001b[35m2022-02-15 14:11:09.224 \u001b[0m\u001b[32m[1644963069213536/start/1 (pid 46840)] \u001b[0m\u001b[1mTask is starting.\u001b[0m\n",
      "    \u001b[35m2022-02-15 14:11:09.858 \u001b[0m\u001b[32m[1644963069213536/start/1 (pid 46840)] \u001b[0m\u001b[22mthis is the start\u001b[0m\n",
      "    \u001b[35m2022-02-15 14:11:09.929 \u001b[0m\u001b[32m[1644963069213536/start/1 (pid 46840)] \u001b[0m\u001b[1mTask finished successfully.\u001b[0m\n",
      "    \u001b[35m2022-02-15 14:11:09.936 \u001b[0m\u001b[32m[1644963069213536/train/2 (pid 46845)] \u001b[0m\u001b[1mTask is starting.\u001b[0m\n",
      "    \u001b[35m2022-02-15 14:11:10.556 \u001b[0m\u001b[32m[1644963069213536/train/2 (pid 46845)] \u001b[0m\u001b[22mthe train step\u001b[0m\n",
      "    \u001b[35m2022-02-15 14:11:10.626 \u001b[0m\u001b[32m[1644963069213536/train/2 (pid 46845)] \u001b[0m\u001b[1mTask finished successfully.\u001b[0m\n",
      "    \u001b[35m2022-02-15 14:11:10.633 \u001b[0m\u001b[32m[1644963069213536/end/3 (pid 46850)] \u001b[0m\u001b[1mTask is starting.\u001b[0m\n",
      "    \u001b[35m2022-02-15 14:11:11.249 \u001b[0m\u001b[32m[1644963069213536/end/3 (pid 46850)] \u001b[0m\u001b[22mthis is the end\u001b[0m\n",
      "    \u001b[35m2022-02-15 14:11:11.315 \u001b[0m\u001b[32m[1644963069213536/end/3 (pid 46850)] \u001b[0m\u001b[1mTask finished successfully.\u001b[0m\n",
      "    \u001b[35m2022-02-15 14:11:11.315 \u001b[0m\u001b[1mDone!\u001b[0m\n",
      "    \u001b[0m\n",
      "\n",
      "This is a normal python cell:\n",
      "\n",
      "\n",
      "```python\n",
      "a = 2\n",
      "a\n",
      "```\n",
      "\n",
      "\n",
      "\n",
      "\n",
      "    2\n",
      "\n",
      "\n",
      "\n",
      "The next cell has a cell tag of `remove_input`, so you should only see the output of the cell:\n",
      "\n",
      "\n",
      "```python\n",
      "print('hello, you should not see the print statement that produced me')\n",
      "```\n",
      "\n",
      "    hello, you should not see the print statement that produced me\n",
      "\n",
      "\n"
     ]
    }
   ],
   "source": [
    "show_plain_md('test_files/example_input.ipynb')"
   ]
  },
  {
   "cell_type": "markdown",
   "id": "c6724a53-f802-487e-996f-b75d5701090d",
   "metadata": {},
   "source": [
    "Here is the same notebook, but with all of the preprocessors that we defined in this module.  Additionally, we hide the input of the last cell which prints `hello, you should not see the print statement...` by using the built in `TagRemovePreprocessor`:"
   ]
  },
  {
   "cell_type": "code",
   "execution_count": 27,
   "id": "b17d7bb3-ef97-440b-91e7-5c7c014137b6",
   "metadata": {},
   "outputs": [
    {
     "name": "stdout",
     "output_type": "stream",
     "text": [
      "---\n",
      "title: my hello page title\n",
      "description: my hello page description\n",
      "hide_table_of_contents: true\n",
      "---\n",
      "## This is a test notebook\n",
      "\n",
      "This is a shell command:\n",
      "\n",
      "\n",
      "```bash\n",
      "echo hello\n",
      "```\n",
      "\n",
      "    hello\n",
      "\n",
      "\n",
      "We are writing a python script to disk:\n",
      "\n",
      "\n",
      "```py title=\"myflow.py\"\n",
      "from metaflow import FlowSpec, step\n",
      "\n",
      "class MyFlow(FlowSpec):\n",
      "    \n",
      "    @step\n",
      "    def start(self):\n",
      "        print('this is the start')\n",
      "        self.next(self.end)\n",
      "    \n",
      "    @step\n",
      "    def end(self):\n",
      "        print('this is the end')\n",
      "\n",
      "if __name__ == '__main__':\n",
      "    MyFlow()\n",
      "```\n",
      "\n",
      "Another shell command where we run a flow:\n",
      "\n",
      "\n",
      "```bash\n",
      "python myflow.py run\n",
      "```\n",
      "\n",
      "    2022-02-15 14:11:09.224 [1644963069213536/start/1 (pid 46840)] Task is starting.\n",
      "    2022-02-15 14:11:09.858 [1644963069213536/start/1 (pid 46840)] this is the start\n",
      "    2022-02-15 14:11:09.929 [1644963069213536/start/1 (pid 46840)] Task finished successfully.\n",
      "    ...\n",
      "\n",
      "This is a normal python cell:\n",
      "\n",
      "\n",
      "\n",
      "\n",
      "    2\n",
      "\n",
      "\n",
      "\n",
      "The next cell has a cell tag of `remove_input`, so you should only see the output of the cell:\n",
      "\n",
      "    hello, you should not see the print statement that produced me\n",
      "\n",
      "\n"
     ]
    }
   ],
   "source": [
    "exp = get_mdx_exporter()\n",
    "print(exp.from_filename('test_files/example_input.ipynb')[0])"
   ]
  }
 ],
 "metadata": {
  "kernelspec": {
   "display_name": "Python 3.9.7 ('base')",
   "language": "python",
   "name": "python397jvsc74a57bd042fd40e048e0585f88ec242f050f7ef0895cf845a8dd1159352394e5826cd102"
  },
  "language_info": {
   "codemirror_mode": {
    "name": "ipython",
    "version": 3
   },
   "file_extension": ".py",
   "mimetype": "text/x-python",
   "name": "python",
   "nbconvert_exporter": "python",
   "pygments_lexer": "ipython3",
   "version": "3.9.7"
  }
 },
 "nbformat": 4,
 "nbformat_minor": 5
}
