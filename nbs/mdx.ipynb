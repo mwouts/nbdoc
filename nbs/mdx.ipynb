{
 "cells": [
  {
   "cell_type": "code",
   "execution_count": 1,
   "id": "79ed0425-068a-4e9e-8ccf-245039ae8698",
   "metadata": {},
   "outputs": [],
   "source": [
    "#default_exp mdx"
   ]
  },
  {
   "cell_type": "markdown",
   "id": "43d60ddb-f5b2-4421-85ab-44843b8f5b1e",
   "metadata": {},
   "source": [
    "# Custom Preprocessors For MDX\n",
    "\n",
    "> Custom preprocessors that help convert notebook content into MDX"
   ]
  },
  {
   "cell_type": "code",
   "execution_count": 2,
   "id": "6083efe3-5f2f-4751-be54-2a6387a62d93",
   "metadata": {},
   "outputs": [],
   "source": [
    "# export\n",
    "from nbconvert.preprocessors import Preprocessor\n",
    "from nbconvert import MarkdownExporter\n",
    "from nbconvert.preprocessors import TagRemovePreprocessor\n",
    "from nbdev.imports import get_config\n",
    "import traitlets\n",
    "from IPython.display import display, Markdown\n",
    "from traitlets.config import Config\n",
    "from pathlib import Path\n",
    "import re"
   ]
  },
  {
   "cell_type": "code",
   "execution_count": 3,
   "id": "f0fca941",
   "metadata": {},
   "outputs": [],
   "source": [
    "#hide\n",
    "__file__ = str(get_config().path(\"lib_path\")/'preproc.py')"
   ]
  },
  {
   "cell_type": "code",
   "execution_count": 4,
   "id": "aa3fbd15-0078-4c3a-9c07-31249ce4dd59",
   "metadata": {},
   "outputs": [],
   "source": [
    "#hide\n",
    "def run_preprocessor(pp, nbfile, template_file='ob.tpl', display_results=False):\n",
    "    c = Config()\n",
    "    c.MarkdownExporter.preprocessors = pp\n",
    "    tmp_dir = Path(__file__).parent/'templates/'\n",
    "    tmp_file = tmp_dir/f\"{template_file}\"\n",
    "    c.MarkdownExporter.template_file = str(tmp_file)\n",
    "    exp =  MarkdownExporter(config=c)\n",
    "    result = exp.from_filename(nbfile)\n",
    "    if display_results: print(result[0])\n",
    "    return result"
   ]
  },
  {
   "cell_type": "code",
   "execution_count": 5,
   "id": "f01552dc-b795-4e79-93b8-33393f92e1c0",
   "metadata": {},
   "outputs": [],
   "source": [
    "#hide\n",
    "def show_plain_md(nbfile):\n",
    "    md = MarkdownExporter()\n",
    "    print(md.from_filename(nbfile)[0])"
   ]
  },
  {
   "cell_type": "code",
   "execution_count": 6,
   "id": "49e88052-a655-4fc4-9a8d-8133bb9712d5",
   "metadata": {},
   "outputs": [],
   "source": [
    "#export\n",
    "class CleanOutput(Preprocessor):\n",
    "    \"\"\"Remove the preamble from Metaflow output.\"\"\"\n",
    "    pattern = r'([\\s\\S]*Metaflow[\\s\\S]*Validating[\\s\\S]+The graph[\\s\\S]+)(\\n[\\s\\S]+Workflow starting[\\s\\S]+)'\n",
    "    ansi_escape = re.compile(r'\\x1B(?:[@-Z\\\\-_]|\\[[0-?]*[ -/]*[@-~])')\n",
    "    \n",
    "    def preprocess_cell(self, cell, resources, index):\n",
    "        if re.search('\\s*python.+run.*', cell.source) and 'outputs' in cell:\n",
    "            for o in cell.outputs:\n",
    "                if o.name == 'stdout':\n",
    "                    o['text'] = self.ansi_escape.sub('', re.sub(self.pattern, r'\\2', o.text)).strip()\n",
    "        return cell, resources"
   ]
  },
  {
   "cell_type": "code",
   "execution_count": 7,
   "id": "2bfbc6c1-3934-45ac-8324-c859a9941d37",
   "metadata": {},
   "outputs": [],
   "source": [
    "#export\n",
    "class WriteTitle(Preprocessor):\n",
    "    \"\"\"Modify the code-fence with the filename upon %%writefile cell magic.\"\"\"\n",
    "    pattern = r'(^[\\S\\s]*%%writefile\\s)(\\S+)\\n'\n",
    "    \n",
    "    def preprocess_cell(self, cell, resources, index):\n",
    "        m = re.match(self.pattern, cell.source)\n",
    "        if m: \n",
    "            filename = m.group(2)\n",
    "            ext = filename.split('.')[-1]\n",
    "            cell.metadata.magics_language = f'{ext} title=\"{filename}\"'\n",
    "            cell.outputs = []\n",
    "        return cell, resources"
   ]
  },
  {
   "cell_type": "markdown",
   "id": "be90ef2f-f24e-4b56-89dd-7de37eefe461",
   "metadata": {},
   "source": [
    "`WriteTitle` creates the proper code-fence with a title in the situation where the `%%writefile` magic is used.\n",
    "\n",
    "For example, here are contents before pre-processing:"
   ]
  },
  {
   "cell_type": "code",
   "execution_count": 8,
   "id": "a7f6cf89-9ea3-4748-91a5-99a84675f746",
   "metadata": {},
   "outputs": [
    {
     "name": "stdout",
     "output_type": "stream",
     "text": [
      "A test notebook\n",
      "\n",
      "\n",
      "```python\n",
      "%%writefile myflow.py\n",
      "\n",
      "from metaflow import FlowSpec, step\n",
      "\n",
      "class MyFlow(FlowSpec):\n",
      "    \n",
      "    @step\n",
      "    def start(self):\n",
      "        print('this is the start')\n",
      "        self.next(self.end)\n",
      "    \n",
      "    @step\n",
      "    def end(self):\n",
      "        print('this is the end')\n",
      "\n",
      "if __name__ == '__main__':\n",
      "    MyFlow()\n",
      "```\n",
      "\n",
      "    Overwriting myflow.py\n",
      "\n",
      "\n",
      "\n",
      "```python\n",
      "%%writefile hello.txt\n",
      "\n",
      "Hello World\n",
      "```\n",
      "\n",
      "    Overwriting hello.txt\n",
      "\n",
      "\n"
     ]
    }
   ],
   "source": [
    "show_plain_md('test_files/writefile.ipynb')"
   ]
  },
  {
   "cell_type": "markdown",
   "id": "7cbf3b82-1e22-47bb-9953-30aee77748c9",
   "metadata": {},
   "source": [
    "When we use `WriteTitle`, you will see the code-fence will change appropriately:"
   ]
  },
  {
   "cell_type": "code",
   "execution_count": 9,
   "id": "4c60a30d-d972-4b00-afd5-f0253670ac1a",
   "metadata": {},
   "outputs": [
    {
     "name": "stdout",
     "output_type": "stream",
     "text": [
      "A test notebook\n",
      "\n",
      "\n",
      "```py title=\"myflow.py\"\n",
      "%%writefile myflow.py\n",
      "\n",
      "from metaflow import FlowSpec, step\n",
      "\n",
      "class MyFlow(FlowSpec):\n",
      "    \n",
      "    @step\n",
      "    def start(self):\n",
      "        print('this is the start')\n",
      "        self.next(self.end)\n",
      "    \n",
      "    @step\n",
      "    def end(self):\n",
      "        print('this is the end')\n",
      "\n",
      "if __name__ == '__main__':\n",
      "    MyFlow()\n",
      "```\n",
      "\n",
      "\n",
      "```txt title=\"hello.txt\"\n",
      "%%writefile hello.txt\n",
      "\n",
      "Hello World\n",
      "```\n",
      "\n"
     ]
    }
   ],
   "source": [
    "c, _ = run_preprocessor([WriteTitle], 'test_files/writefile.ipynb', display_results=True)\n",
    "assert c.split('\\n')[3] == '```py title=\"myflow.py\"'\n",
    "assert c.split('\\n')[24] == '```txt title=\"hello.txt\"'"
   ]
  },
  {
   "cell_type": "code",
   "execution_count": 10,
   "id": "848fd452-3d63-4c41-aaa6-e14cbeb9fdcd",
   "metadata": {},
   "outputs": [],
   "source": [
    "#export\n",
    "class CleanMagics(Preprocessor):\n",
    "    \"\"\"A preprocessor to remove cell magic commands\"\"\"\n",
    "    pattern = '^\\s*(%%|%).+?[\\n\\r]'\n",
    "    \n",
    "    def preprocess_cell(self, cell, resources, index):\n",
    "        if cell.cell_type == 'code': \n",
    "            cell.source = re.sub(self.pattern, '', cell.source).strip()\n",
    "        return cell, resources"
   ]
  },
  {
   "cell_type": "code",
   "execution_count": 11,
   "id": "97249bda-91dd-42ef-9d36-5efc45fad564",
   "metadata": {},
   "outputs": [],
   "source": [
    "#export\n",
    "class BashIdentify(Preprocessor):\n",
    "    \"\"\"A preprocessor to identify bash commands and mark them appropriately\"\"\"\n",
    "    pattern = '^\\s*!'\n",
    "    \n",
    "    def preprocess_cell(self, cell, resources, index):\n",
    "        if cell.cell_type == 'code' and re.search(self.pattern, cell.source):\n",
    "            cell.metadata.magics_language = 'bash'\n",
    "            cell.source = re.sub(self.pattern, '', cell.source).strip()\n",
    "        return cell, resources"
   ]
  },
  {
   "cell_type": "code",
   "execution_count": 12,
   "id": "fac43e18-9e51-4ede-af74-3c5d710925a1",
   "metadata": {},
   "outputs": [],
   "source": [
    "#export\n",
    "def get_exporter(template_file='ob.tpl'):\n",
    "    c = Config()\n",
    "    c.TagRemovePreprocessor.remove_cell_tags = (\"remove_cell\",)\n",
    "    c.TagRemovePreprocessor.remove_all_outputs_tags = ('remove_output',)\n",
    "    c.TagRemovePreprocessor.remove_input_tags = ('remove_input',)\n",
    "    c.TagRemovePreprocessor.enabled = False\n",
    "    c.MarkdownExporter.preprocessors = [WriteTitle, CleanMagics, BashIdentify, CleanOutput]\n",
    "    tmp_dir = Path(__file__).parent/'templates/'\n",
    "    tmp_file = tmp_dir/f\"{template_file}\"\n",
    "    if not tmp_file.exists(): raise ValueError(f\"{tmp_file} does not exist in {tmp_dir}\")\n",
    "    c.MarkdownExporter.template_file = str(tmp_file)\n",
    "    return MarkdownExporter(config=c)"
   ]
  },
  {
   "cell_type": "code",
   "execution_count": 13,
   "id": "df3d4440-3adc-4b49-9b36-ddf5534dff23",
   "metadata": {},
   "outputs": [],
   "source": [
    "hamel = get_exporter()"
   ]
  },
  {
   "cell_type": "code",
   "execution_count": 14,
   "id": "80d27692-b48d-4ff6-b985-ad6bc48682b6",
   "metadata": {},
   "outputs": [
    {
     "name": "stdout",
     "output_type": "stream",
     "text": [
      "---\n",
      "title: my hello page title\n",
      "description: my hello page description\n",
      "hide_table_of_contents: true\n",
      "---\n",
      "\n",
      "```python\n",
      "! echo hello\n",
      "```\n",
      "\n",
      "    hello\n",
      "\n",
      "\n",
      "\n",
      "```python\n",
      "%%writefile myflow.py\n",
      "\n",
      "from metaflow import FlowSpec, step\n",
      "\n",
      "class MyFlow(FlowSpec):\n",
      "    \n",
      "    @step\n",
      "    def start(self):\n",
      "        print('this is the start')\n",
      "        self.next(self.end)\n",
      "    \n",
      "    @step\n",
      "    def end(self):\n",
      "        print('this is the end')\n",
      "\n",
      "if __name__ == '__main__':\n",
      "    MyFlow()\n",
      "```\n",
      "\n",
      "    Overwriting myflow.py\n",
      "\n",
      "\n",
      "\n",
      "```python\n",
      "! python myflow.py run\n",
      "```\n",
      "\n",
      "    \u001b[35m\u001b[1mMetaflow 2.5.0.post6+git62f5e52\u001b[0m\u001b[35m\u001b[22m executing \u001b[0m\u001b[31m\u001b[1mMyFlow\u001b[0m\u001b[35m\u001b[22m\u001b[0m\u001b[35m\u001b[22m for \u001b[0m\u001b[31m\u001b[1muser:hamel\u001b[0m\u001b[35m\u001b[22m\u001b[K\u001b[0m\u001b[35m\u001b[22m\u001b[0m\n",
      "    \u001b[35m\u001b[22mValidating your flow...\u001b[K\u001b[0m\u001b[35m\u001b[22m\u001b[0m\n",
      "    \u001b[32m\u001b[1m    The graph looks good!\u001b[K\u001b[0m\u001b[32m\u001b[1m\u001b[0m\n",
      "    \u001b[35m\u001b[22mRunning pylint...\u001b[K\u001b[0m\u001b[35m\u001b[22m\u001b[0m\n",
      "    \u001b[32m\u001b[1m    Pylint is happy!\u001b[K\u001b[0m\u001b[32m\u001b[1m\u001b[0m\n",
      "    \u001b[35m2022-02-14 10:39:55.240 \u001b[0m\u001b[1mWorkflow starting (run-id 1644863995236850):\u001b[0m\n",
      "    \u001b[35m2022-02-14 10:39:55.247 \u001b[0m\u001b[32m[1644863995236850/start/1 (pid 97470)] \u001b[0m\u001b[1mTask is starting.\u001b[0m\n",
      "    \u001b[35m2022-02-14 10:39:55.840 \u001b[0m\u001b[32m[1644863995236850/start/1 (pid 97470)] \u001b[0m\u001b[22mthis is the start\u001b[0m\n",
      "    \u001b[35m2022-02-14 10:39:55.911 \u001b[0m\u001b[32m[1644863995236850/start/1 (pid 97470)] \u001b[0m\u001b[1mTask finished successfully.\u001b[0m\n",
      "    \u001b[35m2022-02-14 10:39:55.919 \u001b[0m\u001b[32m[1644863995236850/end/2 (pid 97476)] \u001b[0m\u001b[1mTask is starting.\u001b[0m\n",
      "    \u001b[35m2022-02-14 10:39:56.519 \u001b[0m\u001b[32m[1644863995236850/end/2 (pid 97476)] \u001b[0m\u001b[22mthis is the end\u001b[0m\n",
      "    \u001b[35m2022-02-14 10:39:56.593 \u001b[0m\u001b[32m[1644863995236850/end/2 (pid 97476)] \u001b[0m\u001b[1mTask finished successfully.\u001b[0m\n",
      "    \u001b[35m2022-02-14 10:39:56.593 \u001b[0m\u001b[1mDone!\u001b[0m\n",
      "    \u001b[0m\n",
      "\n",
      "\n",
      "```python\n",
      "a = 2\n",
      "a\n",
      "```\n",
      "\n",
      "\n",
      "\n",
      "\n",
      "    2\n",
      "\n",
      "\n",
      "\n"
     ]
    }
   ],
   "source": [
    "show_plain_md('test_files/example_input.ipynb')"
   ]
  },
  {
   "cell_type": "code",
   "execution_count": 15,
   "id": "b17d7bb3-ef97-440b-91e7-5c7c014137b6",
   "metadata": {},
   "outputs": [
    {
     "name": "stdout",
     "output_type": "stream",
     "text": [
      "---\n",
      "title: my hello page title\n",
      "description: my hello page description\n",
      "hide_table_of_contents: true\n",
      "---\n",
      "\n",
      "```bash\n",
      "echo hello\n",
      "```\n",
      "\n",
      "    hello\n",
      "\n",
      "\n",
      "\n",
      "```py title=\"myflow.py\"\n",
      "from metaflow import FlowSpec, step\n",
      "\n",
      "class MyFlow(FlowSpec):\n",
      "    \n",
      "    @step\n",
      "    def start(self):\n",
      "        print('this is the start')\n",
      "        self.next(self.end)\n",
      "    \n",
      "    @step\n",
      "    def end(self):\n",
      "        print('this is the end')\n",
      "\n",
      "if __name__ == '__main__':\n",
      "    MyFlow()\n",
      "```\n",
      "\n",
      "\n",
      "```bash\n",
      "python myflow.py run\n",
      "```\n",
      "\n",
      "    2022-02-14 10:39:55.240 Workflow starting (run-id 1644863995236850):\n",
      "    2022-02-14 10:39:55.247 [1644863995236850/start/1 (pid 97470)] Task is starting.\n",
      "    2022-02-14 10:39:55.840 [1644863995236850/start/1 (pid 97470)] this is the start\n",
      "    2022-02-14 10:39:55.911 [1644863995236850/start/1 (pid 97470)] Task finished successfully.\n",
      "    2022-02-14 10:39:55.919 [1644863995236850/end/2 (pid 97476)] Task is starting.\n",
      "    2022-02-14 10:39:56.519 [1644863995236850/end/2 (pid 97476)] this is the end\n",
      "    2022-02-14 10:39:56.593 [1644863995236850/end/2 (pid 97476)] Task finished successfully.\n",
      "    2022-02-14 10:39:56.593 Done!\n",
      "\n",
      "\n",
      "```python\n",
      "a = 2\n",
      "a\n",
      "```\n",
      "\n",
      "\n",
      "\n",
      "\n",
      "    2\n",
      "\n",
      "\n",
      "\n"
     ]
    }
   ],
   "source": [
    "print(hamel.from_filename('test_files/example_input.ipynb')[0])"
   ]
  }
 ],
 "metadata": {
  "kernelspec": {
   "display_name": "Python 3.9.7 ('base')",
   "language": "python",
   "name": "python397jvsc74a57bd042fd40e048e0585f88ec242f050f7ef0895cf845a8dd1159352394e5826cd102"
  },
  "language_info": {
   "codemirror_mode": {
    "name": "ipython",
    "version": 3
   },
   "file_extension": ".py",
   "mimetype": "text/x-python",
   "name": "python",
   "nbconvert_exporter": "python",
   "pygments_lexer": "ipython3",
   "version": "3.9.7"
  }
 },
 "nbformat": 4,
 "nbformat_minor": 5
}
