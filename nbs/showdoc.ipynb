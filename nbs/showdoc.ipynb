{
 "cells": [
  {
   "cell_type": "code",
   "execution_count": 1,
   "id": "aee35186-0164-420e-bcee-fab4a5b1c96d",
   "metadata": {},
   "outputs": [],
   "source": [
    "#default_exp showdoc"
   ]
  },
  {
   "cell_type": "markdown",
   "id": "63ab417b-b182-46de-a88b-89e6de13b66a",
   "metadata": {},
   "source": [
    "# JSX Representations Of Objects\n",
    "> Render JSX representations of python classes and functions interactively.\n",
    "\n",
    "This module is modeled after [nbdev's](https://github.com/fastai/nbdev) showdoc functionality, but is instead [Numpy Docstring](https://numpydoc.readthedocs.io/en/latest/format.html) compliant."
   ]
  },
  {
   "cell_type": "code",
   "execution_count": 28,
   "id": "6f8c7592-7628-4832-bc74-cd50cd307308",
   "metadata": {},
   "outputs": [],
   "source": [
    "#export\n",
    "from numpydoc.docscrape import NumpyDocString,ClassDoc, FunctionDoc, Parameter\n",
    "from fastcore.all import test_eq, get_source_link, test\n",
    "from xml.etree import ElementTree as et\n",
    "import inspect, functools"
   ]
  },
  {
   "cell_type": "code",
   "execution_count": 32,
   "id": "a6c28828-9b3c-4440-afa2-90381fe94450",
   "metadata": {},
   "outputs": [],
   "source": [
    "#hide\n",
    "import test_lib.example as ex"
   ]
  },
  {
   "cell_type": "code",
   "execution_count": 4,
   "id": "c315c54e-859c-44c5-9c4d-2499692dfbcb",
   "metadata": {},
   "outputs": [],
   "source": [
    "#export\n",
    "_ATTRS_PARAMS=['Parameters', 'Attributes', 'Returns', 'Yields', 'Raises'] # These have parameters\n",
    "_ATTRS_STR_LIST=['Summary', 'Extended Summary'] # These are lists of strings\n",
    "def _is_func(obj): return inspect.isfunction(obj)"
   ]
  },
  {
   "cell_type": "code",
   "execution_count": 5,
   "id": "af14fe3d-bbb2-4a54-a0b7-c1fa2c9efba0",
   "metadata": {},
   "outputs": [],
   "source": [
    "#export\n",
    "def is_valid_xml(xml:str):\n",
    "    \"Determine if xml is valid or not.\"\n",
    "    try: et.fromstring(xml)\n",
    "    except et.ParseError as e: \n",
    "        print(f\"WARNING: xml not does not parse:{e}\")\n",
    "        return False\n",
    "    return True"
   ]
  },
  {
   "cell_type": "markdown",
   "id": "d0e55f0b-e78f-4b8d-922b-a608bce5a096",
   "metadata": {},
   "source": [
    "You can use `is_valid_xml` to determine if JSX is valid:"
   ]
  },
  {
   "cell_type": "code",
   "execution_count": 6,
   "id": "fe702ea7-7325-4b5d-a8ea-bbb2557547d6",
   "metadata": {},
   "outputs": [],
   "source": [
    "_valid = \"<Foo></Foo>\" # valid jsx\n",
    "assert is_valid_xml(_valid)"
   ]
  },
  {
   "cell_type": "markdown",
   "id": "13625d01-030a-4c52-881a-588d69bf820a",
   "metadata": {},
   "source": [
    "If you pass invalid JSX to `is_valid_xml`, a warning will be printed:"
   ]
  },
  {
   "cell_type": "code",
   "execution_count": 7,
   "id": "f819c03e-3d42-4672-b9e9-594ed877b901",
   "metadata": {},
   "outputs": [
    {
     "name": "stdout",
     "output_type": "stream",
     "text": [
      "WARNING: xml not does not parse:no element found: line 1, column 10\n",
      "WARNING: xml not does not parse:mismatched tag: line 1, column 7\n"
     ]
    }
   ],
   "source": [
    "_invalid1 = \"<Foo><Foo>\"\n",
    "_invalid2 = \"<Foo></Bar>\"\n",
    "\n",
    "assert not is_valid_xml(_invalid1)\n",
    "assert not is_valid_xml(_invalid2)"
   ]
  },
  {
   "cell_type": "code",
   "execution_count": 8,
   "id": "2c9604d3-0de1-4a39-b19b-30d4df5ce6d1",
   "metadata": {},
   "outputs": [],
   "source": [
    "#export\n",
    "def param2JSX(p:Parameter):\n",
    "    \"Format a numpydoc.docscrape.Parameters as JSX components\"\n",
    "    prefix = \"<Parameter\"\n",
    "    suffix = \" />\"\n",
    "    for a in ['name', 'type', 'desc']:\n",
    "        val = getattr(p, a)\n",
    "        if val:\n",
    "            if a == 'desc': \n",
    "                desc = '\\n'.join(val).encode('unicode_escape').decode('utf-8')\n",
    "                prefix += f' {a}=\"{desc}\"'\n",
    "            else: prefix += f' {a}=\"{val}\"'\n",
    "    return prefix.strip() + suffix"
   ]
  },
  {
   "cell_type": "code",
   "execution_count": 30,
   "id": "a9e05b10-6f86-4867-9437-898f619d1540",
   "metadata": {},
   "outputs": [],
   "source": [
    "_fd = FunctionDoc(ex.function_with_types_in_docstring)\n",
    "_p = _fd['Parameters'][0]\n",
    "\n",
    "test_eq(param2JSX(_p), '<Parameter name=\"param1\" type=\"int\" desc=\"The first parameter. something something\\\\nsecond line. foo\" />')\n",
    "assert is_valid_xml(param2JSX(_p))"
   ]
  },
  {
   "cell_type": "code",
   "execution_count": 10,
   "id": "ec56b89e-21c7-4d1d-8be6-1a325e4da25a",
   "metadata": {},
   "outputs": [],
   "source": [
    "#export\n",
    "def np2jsx(obj):\n",
    "    \"Turn Numpy Docstrings Into JSX components\"\n",
    "    if inspect.isclass(obj): doc = ClassDoc(obj)\n",
    "    elif _is_func(obj): doc = FunctionDoc(obj)\n",
    "    else: raise ValueError(f'You can only generate parameters for classes and functions but got: {type(obj)}')\n",
    "    desc_list = []\n",
    "    for a in _ATTRS_STR_LIST:\n",
    "        nm = a.replace(' ', '_').lower()\n",
    "        desc = '\\n'.join(doc[a]).encode('unicode_escape').decode('utf-8')\n",
    "        if doc[a]: desc_list.append(f' {nm}=\"{desc}\"')\n",
    "    desc_props = ''.join(desc_list)\n",
    "    desc_component = f'<Description{desc_props} />' if desc_props else ''\n",
    "    \n",
    "    jsx_sections = []\n",
    "    for a in _ATTRS_PARAMS:\n",
    "        params = doc[a]\n",
    "        if params:\n",
    "            jsx_params = '\\t' + '\\n\\t'.join([param2JSX(p) for p in params])\n",
    "            jsx_block = f'<ParamSection name=\"{a}\">\\n{jsx_params}\\n</ParamSection>'\n",
    "            jsx_sections.append(jsx_block)\n",
    "    \n",
    "    return desc_component+ '\\n' + '\\n'.join(jsx_sections)"
   ]
  },
  {
   "cell_type": "markdown",
   "id": "693fc690-9a37-4bde-a367-6e03ec99ead8",
   "metadata": {},
   "source": [
    "Below are some examples of docstrings and resulting JSX that comes out of them. This one is of a class:"
   ]
  },
  {
   "cell_type": "code",
   "execution_count": 11,
   "id": "735bfce7-8bfc-4217-869e-1703aec0768b",
   "metadata": {},
   "outputs": [
    {
     "name": "stdout",
     "output_type": "stream",
     "text": [
      "The summary line for a class docstring should fit on one line.\n",
      "\n",
      "If the class has public attributes, they may be documented here\n",
      "in an ``Attributes`` section and follow the same formatting as a\n",
      "function's ``Args`` section. Alternatively, attributes may be documented\n",
      "inline with the attribute's declaration (see __init__ method below).\n",
      "\n",
      "Properties created with the ``@property`` decorator should be documented\n",
      "in the property's getter method.\n",
      "\n",
      "Attributes\n",
      "----------\n",
      "attr1 : str\n",
      "    Description of `attr1`.\n",
      "attr2 : :obj:`int`, optional\n",
      "    Description of `attr2`.\n"
     ]
    }
   ],
   "source": [
    "print(inspect.getdoc(ex.ExampleClass))"
   ]
  },
  {
   "cell_type": "code",
   "execution_count": 12,
   "id": "ecb171fd-c03e-4e3d-8016-faa316b590ee",
   "metadata": {},
   "outputs": [
    {
     "name": "stdout",
     "output_type": "stream",
     "text": [
      "<Description summary=\"The summary line for a class docstring should fit on one line.\" extended_summary=\"If the class has public attributes, they may be documented here\\nin an ``Attributes`` section and follow the same formatting as a\\nfunction's ``Args`` section. Alternatively, attributes may be documented\\ninline with the attribute's declaration (see __init__ method below).\\n\\nProperties created with the ``@property`` decorator should be documented\\nin the property's getter method.\" />\n",
      "<ParamSection name=\"Attributes\">\n",
      "\t<Parameter name=\"attr1\" type=\"str\" desc=\"Description of `attr1`.\" />\n",
      "\t<Parameter name=\"attr2\" type=\":obj:`int`, optional\" desc=\"Description of `attr2`.\" />\n",
      "</ParamSection>\n"
     ]
    }
   ],
   "source": [
    "_res = np2jsx(ex.ExampleClass)\n",
    "assert '<Parameter name=\"attr1\" type=\"str\" desc=\"Description of `attr1`.\" />' in _res\n",
    "assert 'extended_summary=\"If the class has public attributes' in _res\n",
    "assert '</ParamSection>' in _res\n",
    "print(_res)"
   ]
  },
  {
   "cell_type": "markdown",
   "id": "3379c48a-8181-4cb1-9264-6f796b9be665",
   "metadata": {},
   "source": [
    "This next one is of a top-level function:"
   ]
  },
  {
   "cell_type": "code",
   "execution_count": 13,
   "id": "999c8471-d4a1-41cd-979e-7c108aed70a8",
   "metadata": {},
   "outputs": [
    {
     "name": "stdout",
     "output_type": "stream",
     "text": [
      "Example function with types documented in the docstring.\n",
      "\n",
      "`PEP 484`_ type annotations are supported. If attribute, parameter, and\n",
      "return types are annotated according to `PEP 484`_, they do not need to be\n",
      "included in the docstring:\n",
      "\n",
      "Parameters\n",
      "----------\n",
      "param1 : int\n",
      "    The first parameter. something something\n",
      "    second line. foo\n",
      "param2 : str\n",
      "    The second parameter.\n",
      "\n",
      "Returns\n",
      "-------\n",
      "bool\n",
      "    True if successful, False otherwise.\n"
     ]
    }
   ],
   "source": [
    "print(inspect.getdoc(ex.function_with_types_in_docstring))"
   ]
  },
  {
   "cell_type": "code",
   "execution_count": 14,
   "id": "0325da66-1b0f-4e2c-b5e9-cdf770ab8ae4",
   "metadata": {},
   "outputs": [
    {
     "name": "stdout",
     "output_type": "stream",
     "text": [
      "<Description summary=\"Example function with types documented in the docstring.\" extended_summary=\"`PEP 484`_ type annotations are supported. If attribute, parameter, and\\nreturn types are annotated according to `PEP 484`_, they do not need to be\\nincluded in the docstring:\" />\n",
      "<ParamSection name=\"Parameters\">\n",
      "\t<Parameter name=\"param1\" type=\"int\" desc=\"The first parameter. something something\\nsecond line. foo\" />\n",
      "\t<Parameter name=\"param2\" type=\"str\" desc=\"The second parameter.\" />\n",
      "</ParamSection>\n",
      "<ParamSection name=\"Returns\">\n",
      "\t<Parameter type=\"bool\" desc=\"True if successful, False otherwise.\" />\n",
      "</ParamSection>\n"
     ]
    }
   ],
   "source": [
    "_res = np2jsx(ex.function_with_types_in_docstring)\n",
    "assert 'extended_summary=\"`PEP 484`_ type annotations are supported' in _res\n",
    "assert '<Parameter name=\"param2\" type=\"str\" desc=\"The second parameter.\" />' in _res\n",
    "assert '<ParamSection name=\"Returns\">' in _res\n",
    "print(_res)"
   ]
  },
  {
   "cell_type": "code",
   "execution_count": 15,
   "id": "3f591de4-7f00-45d1-8159-aff4204adb02",
   "metadata": {},
   "outputs": [],
   "source": [
    "#export\n",
    "def fmt_sig_param(p:inspect.Parameter):\n",
    "    \"Format inspect.Parameters as JSX components\"\n",
    "    name = str(p) if str(p).startswith('*') else p.name\n",
    "    prefix = f'<SigArg name=\"{name}\" '\n",
    "    if p.annotation != inspect._empty:\n",
    "        prefix += f'type=\"{p.annotation.__name__}\" '\n",
    "    if p.default != inspect._empty:\n",
    "        prefix += f'default=\"{p.default}\" '\n",
    "    return prefix + \"/>\""
   ]
  },
  {
   "cell_type": "markdown",
   "id": "16da5d7d-c7be-4126-aa08-59c5ff077adb",
   "metadata": {},
   "source": [
    "`fmt_sig_param` converts individual parameters in signatures to JSX.  Let's take the complex signature below, for example:"
   ]
  },
  {
   "cell_type": "code",
   "execution_count": 16,
   "id": "0adfc434-f9ed-49a3-8061-e651e93c1669",
   "metadata": {},
   "outputs": [
    {
     "data": {
      "text/plain": [
       "<Signature (a: int, b: str = 'foo', c: float = 0.1, *args, **tags)>"
      ]
     },
     "execution_count": 16,
     "metadata": {},
     "output_type": "execute_result"
    }
   ],
   "source": [
    "_sig = inspect.signature(ex.Bar)\n",
    "_sig"
   ]
  },
  {
   "cell_type": "markdown",
   "id": "1d7460a5-bb52-4f8c-a7c7-808f8ee11642",
   "metadata": {},
   "source": [
    "Each of these parameters are then converted to JSX components"
   ]
  },
  {
   "cell_type": "code",
   "execution_count": 17,
   "id": "bbbe4731-bf49-451c-8015-cc8e1535990a",
   "metadata": {},
   "outputs": [],
   "source": [
    "_ps = _sig.parameters\n",
    "test_eq(fmt_sig_param(_ps['a']), '<SigArg name=\"a\" type=\"int\" />')\n",
    "test_eq(fmt_sig_param(_ps['b']), '<SigArg name=\"b\" type=\"str\" default=\"foo\" />')\n",
    "test_eq(fmt_sig_param(_ps['args']), '<SigArg name=\"*args\" />')\n",
    "test_eq(fmt_sig_param(_ps['tags']), '<SigArg name=\"**tags\" />')\n",
    "assert is_valid_xml(fmt_sig_param(_ps['b']))"
   ]
  },
  {
   "cell_type": "code",
   "execution_count": 18,
   "id": "5c5ae88d-958a-4b59-a56e-4384ccf6b91d",
   "metadata": {},
   "outputs": [],
   "source": [
    "#export\n",
    "def get_sig_section(obj):\n",
    "    \"Get JSX section from the signature of a class or function consisting of all of the argument.\"\n",
    "    if not inspect.isclass(obj) and not _is_func(obj):\n",
    "        raise ValueError(f'You can only generate parameters for classes and functions but got: {type(obj)}')\n",
    "    params = inspect.signature(obj).parameters.items()\n",
    "    jsx_params = [fmt_sig_param(p) for _, p in params]\n",
    "    return \"<SigArgSection>\\n\" + ''.join(jsx_params) +\"\\n</SigArgSection>\""
   ]
  },
  {
   "cell_type": "markdown",
   "id": "fab8f6a2-dd1e-4220-aa6e-9358528692ce",
   "metadata": {},
   "source": [
    "Let's take the class Bar, for example:"
   ]
  },
  {
   "cell_type": "code",
   "execution_count": 19,
   "id": "31be4c90-1b8b-4943-a928-a7c2842ceaae",
   "metadata": {},
   "outputs": [
    {
     "data": {
      "text/plain": [
       "<Signature (a: int, b: str = 'foo', c: float = 0.1, *args, **tags)>"
      ]
     },
     "execution_count": 19,
     "metadata": {},
     "output_type": "execute_result"
    }
   ],
   "source": [
    "inspect.signature(ex.Bar)"
   ]
  },
  {
   "cell_type": "markdown",
   "id": "bf7ec70b-871a-4413-bd37-1e84a723e884",
   "metadata": {},
   "source": [
    "The signature will get converted to JSX components, like so:"
   ]
  },
  {
   "cell_type": "code",
   "execution_count": 20,
   "id": "c34a9a55-7e72-487b-926d-f1c5fdd1d729",
   "metadata": {},
   "outputs": [
    {
     "name": "stdout",
     "output_type": "stream",
     "text": [
      "<SigArgSection>\n",
      "<SigArg name=\"a\" type=\"int\" /><SigArg name=\"b\" type=\"str\" default=\"foo\" /><SigArg name=\"c\" type=\"float\" default=\"0.1\" /><SigArg name=\"*args\" /><SigArg name=\"**tags\" />\n",
      "</SigArgSection>\n"
     ]
    }
   ],
   "source": [
    "_ex_result=\"\"\"<SigArgSection>\n",
    "<SigArg name=\"a\" type=\"int\" /><SigArg name=\"b\" type=\"str\" default=\"foo\" /><SigArg name=\"c\" type=\"float\" default=\"0.1\" /><SigArg name=\"*args\" /><SigArg name=\"**tags\" />\n",
    "</SigArgSection>\n",
    "\"\"\".strip()\n",
    "\n",
    "_gen_result = get_sig_section(ex.Bar)\n",
    "assert is_valid_xml(_gen_result) # make sure its valid xml\n",
    "test_eq(_gen_result, _ex_result)\n",
    "print(_gen_result)"
   ]
  },
  {
   "cell_type": "code",
   "execution_count": 21,
   "id": "aba26c5a-10dc-4b97-9382-3f90252b81c4",
   "metadata": {},
   "outputs": [],
   "source": [
    "#export\n",
    "def get_jsx_doc(obj):\n",
    "    \"Construct the full JSX documentation for a particular object.\"\n",
    "    if _is_func(obj):\n",
    "        if 'self' in inspect.signature(ex.ExampleClass.example_method).parameters:\n",
    "            typ = 'method'\n",
    "        else: typ = 'function'\n",
    "    elif inspect.isclass(obj): \n",
    "        typ = 'class'\n",
    "    else: \n",
    "        raise ValueError(f'Can only parse a class or a function, but got a {type(obj)}')\n",
    "    npdocs = np2jsx(obj)\n",
    "    nm = f'<DocSection type=\"{typ}\" name=\"{obj.__name__}\" module=\"{inspect.getmodule(obj).__name__}\" link=\"{get_source_link(obj)}\">'\n",
    "    sp = get_sig_section(obj)\n",
    "    return f'{nm}\\n{sp}\\n{npdocs}\\n</DocSection>'"
   ]
  },
  {
   "cell_type": "markdown",
   "id": "dfc4d7e8-05af-47a3-98ab-db5e7afb9682",
   "metadata": {},
   "source": [
    "`get_jsx_doc` extracts JSX Markup about an object so that you can use it for code documentation.  Here are some examples:"
   ]
  },
  {
   "cell_type": "code",
   "execution_count": 22,
   "id": "8cda5649-605f-4f67-98ab-52476fe88113",
   "metadata": {},
   "outputs": [
    {
     "name": "stdout",
     "output_type": "stream",
     "text": [
      "<DocSection type=\"class\" name=\"ExampleClass\" module=\"test_lib.example\" link=\"test_lib/example.py#L195\">\n",
      "<SigArgSection>\n",
      "<SigArg name=\"param1\" /><SigArg name=\"param2\" /><SigArg name=\"param3\" />\n",
      "</SigArgSection>\n",
      "<Description summary=\"The summary line for a class docstring should fit on one line.\" extended_summary=\"If the class has public attributes, they may be documented here\\nin an ``Attributes`` section and follow the same formatting as a\\nfunction's ``Args`` section. Alternatively, attributes may be documented\\ninline with the attribute's declaration (see __init__ method below).\\n\\nProperties created with the ``@property`` decorator should be documented\\nin the property's getter method.\" />\n",
      "<ParamSection name=\"Attributes\">\n",
      "\t<Parameter name=\"attr1\" type=\"str\" desc=\"Description of `attr1`.\" />\n",
      "\t<Parameter name=\"attr2\" type=\":obj:`int`, optional\" desc=\"Description of `attr2`.\" />\n",
      "</ParamSection>\n",
      "</DocSection>\n"
     ]
    }
   ],
   "source": [
    "_result = get_jsx_doc(ex.ExampleClass)\n",
    "assert is_valid_xml(_result)\n",
    "print(_result)"
   ]
  },
  {
   "cell_type": "code",
   "execution_count": 23,
   "id": "4b3acc2c-d7a5-4908-a9cb-0b796ec91206",
   "metadata": {},
   "outputs": [
    {
     "name": "stdout",
     "output_type": "stream",
     "text": [
      "<DocSection type=\"class\" name=\"Foo\" module=\"test_lib.example\" link=\"test_lib/example.py#L188\">\n",
      "<SigArgSection>\n",
      "<SigArg name=\"a\" type=\"int\" /><SigArg name=\"b\" type=\"str\" default=\"foo\" /><SigArg name=\"c\" type=\"float\" default=\"0.1\" /><SigArg name=\"*args\" /><SigArg name=\"**tags\" />\n",
      "</SigArgSection>\n",
      "\n",
      "\n",
      "</DocSection>\n"
     ]
    }
   ],
   "source": [
    "_result = get_jsx_doc(ex.Foo)\n",
    "assert is_valid_xml(_result)\n",
    "print(_result)"
   ]
  },
  {
   "cell_type": "code",
   "execution_count": 34,
   "id": "820ddf76-a602-4634-b165-0d22434fcde9",
   "metadata": {},
   "outputs": [],
   "source": [
    "#hide\n",
    "### Show Documentation With `showdoc`\n",
    "# todo"
   ]
  }
 ],
 "metadata": {
  "kernelspec": {
   "display_name": "Python 3 (ipykernel)",
   "language": "python",
   "name": "python3"
  },
  "language_info": {
   "codemirror_mode": {
    "name": "ipython",
    "version": 3
   },
   "file_extension": ".py",
   "mimetype": "text/x-python",
   "name": "python",
   "nbconvert_exporter": "python",
   "pygments_lexer": "ipython3",
   "version": "3.9.7"
  }
 },
 "nbformat": 4,
 "nbformat_minor": 5
}
