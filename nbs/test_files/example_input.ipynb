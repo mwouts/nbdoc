{
 "cells": [
  {
   "cell_type": "raw",
   "id": "c95703db",
   "metadata": {},
   "source": [
    "---\n",
    "title: my hello page title\n",
    "description: my hello page description\n",
    "hide_table_of_contents: true\n",
    "---"
   ]
  },
  {
   "cell_type": "code",
   "execution_count": 1,
   "id": "6517a3a2",
   "metadata": {
    "tags": []
   },
   "outputs": [
    {
     "name": "stdout",
     "output_type": "stream",
     "text": [
      "hello\n"
     ]
    }
   ],
   "source": [
    "! echo hello"
   ]
  },
  {
   "cell_type": "code",
   "execution_count": 6,
   "id": "09477a73",
   "metadata": {
    "fence": "focus=11:13",
    "tags": []
   },
   "outputs": [
    {
     "name": "stdout",
     "output_type": "stream",
     "text": [
      "Overwriting myflow.py\n"
     ]
    }
   ],
   "source": [
    "%%writefile myflow.py\n",
    "\n",
    "from metaflow import FlowSpec, step\n",
    "\n",
    "class MyFlow(FlowSpec):\n",
    "    \n",
    "    @step\n",
    "    def start(self):\n",
    "        print('this is the start')\n",
    "        self.next(self.end)\n",
    "    \n",
    "    @step\n",
    "    def end(self):\n",
    "        print('this is the end')\n",
    "\n",
    "if __name__ == '__main__':\n",
    "    MyFlow()"
   ]
  },
  {
   "cell_type": "code",
   "execution_count": 3,
   "id": "38089c35-4919-4129-b798-c4ed729bede2",
   "metadata": {},
   "outputs": [
    {
     "name": "stdout",
     "output_type": "stream",
     "text": [
      "\u001b[35m\u001b[1mMetaflow 2.5.0.post6+git62f5e52\u001b[0m\u001b[35m\u001b[22m executing \u001b[0m\u001b[31m\u001b[1mMyFlow\u001b[0m\u001b[35m\u001b[22m\u001b[0m\u001b[35m\u001b[22m for \u001b[0m\u001b[31m\u001b[1muser:hamel\u001b[0m\u001b[35m\u001b[22m\u001b[K\u001b[0m\u001b[35m\u001b[22m\u001b[0m\n",
      "\u001b[35m\u001b[22mValidating your flow...\u001b[K\u001b[0m\u001b[35m\u001b[22m\u001b[0m\n",
      "\u001b[32m\u001b[1m    The graph looks good!\u001b[K\u001b[0m\u001b[32m\u001b[1m\u001b[0m\n",
      "\u001b[35m\u001b[22mRunning pylint...\u001b[K\u001b[0m\u001b[35m\u001b[22m\u001b[0m\n",
      "\u001b[32m\u001b[1m    Pylint is happy!\u001b[K\u001b[0m\u001b[32m\u001b[1m\u001b[0m\n",
      "\u001b[35m2022-02-14 10:39:55.240 \u001b[0m\u001b[1mWorkflow starting (run-id 1644863995236850):\u001b[0m\n",
      "\u001b[35m2022-02-14 10:39:55.247 \u001b[0m\u001b[32m[1644863995236850/start/1 (pid 97470)] \u001b[0m\u001b[1mTask is starting.\u001b[0m\n",
      "\u001b[35m2022-02-14 10:39:55.840 \u001b[0m\u001b[32m[1644863995236850/start/1 (pid 97470)] \u001b[0m\u001b[22mthis is the start\u001b[0m\n",
      "\u001b[35m2022-02-14 10:39:55.911 \u001b[0m\u001b[32m[1644863995236850/start/1 (pid 97470)] \u001b[0m\u001b[1mTask finished successfully.\u001b[0m\n",
      "\u001b[35m2022-02-14 10:39:55.919 \u001b[0m\u001b[32m[1644863995236850/end/2 (pid 97476)] \u001b[0m\u001b[1mTask is starting.\u001b[0m\n",
      "\u001b[35m2022-02-14 10:39:56.519 \u001b[0m\u001b[32m[1644863995236850/end/2 (pid 97476)] \u001b[0m\u001b[22mthis is the end\u001b[0m\n",
      "\u001b[35m2022-02-14 10:39:56.593 \u001b[0m\u001b[32m[1644863995236850/end/2 (pid 97476)] \u001b[0m\u001b[1mTask finished successfully.\u001b[0m\n",
      "\u001b[35m2022-02-14 10:39:56.593 \u001b[0m\u001b[1mDone!\u001b[0m\n",
      "\u001b[0m"
     ]
    }
   ],
   "source": [
    "! python myflow.py run"
   ]
  },
  {
   "cell_type": "code",
   "execution_count": 4,
   "id": "445a4764",
   "metadata": {
    "tags": [
     "remove_input"
    ]
   },
   "outputs": [
    {
     "data": {
      "text/plain": [
       "2"
      ]
     },
     "execution_count": 4,
     "metadata": {},
     "output_type": "execute_result"
    }
   ],
   "source": [
    "a = 2\n",
    "a"
   ]
  }
 ],
 "metadata": {
  "celltoolbar": "Tags",
  "kernelspec": {
   "display_name": "Python 3 (ipykernel)",
   "language": "python",
   "name": "python3"
  },
  "language_info": {
   "codemirror_mode": {
    "name": "ipython",
    "version": 3
   },
   "file_extension": ".py",
   "mimetype": "text/x-python",
   "name": "python",
   "nbconvert_exporter": "python",
   "pygments_lexer": "ipython3",
   "version": "3.9.7"
  }
 },
 "nbformat": 4,
 "nbformat_minor": 5
}
