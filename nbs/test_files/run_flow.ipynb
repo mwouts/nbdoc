{
 "cells": [
  {
   "cell_type": "code",
   "execution_count": 2,
   "id": "00e4a706-f9f4-416d-9776-d69b859a196e",
   "metadata": {},
   "outputs": [
    {
     "name": "stdout",
     "output_type": "stream",
     "text": [
      "\u001b[35m\u001b[1mMetaflow 2.5.0.post6+git62f5e52\u001b[0m\u001b[35m\u001b[22m executing \u001b[0m\u001b[31m\u001b[1mMyFlow\u001b[0m\u001b[35m\u001b[22m\u001b[0m\u001b[35m\u001b[22m for \u001b[0m\u001b[31m\u001b[1muser:hamel\u001b[0m\u001b[35m\u001b[22m\u001b[K\u001b[0m\u001b[35m\u001b[22m\u001b[0m\n",
      "\u001b[35m\u001b[22mValidating your flow...\u001b[K\u001b[0m\u001b[35m\u001b[22m\u001b[0m\n",
      "\u001b[32m\u001b[1m    The graph looks good!\u001b[K\u001b[0m\u001b[32m\u001b[1m\u001b[0m\n",
      "\u001b[35m\u001b[22mRunning pylint...\u001b[K\u001b[0m\u001b[35m\u001b[22m\u001b[0m\n",
      "\u001b[32m\u001b[1m    Pylint is happy!\u001b[K\u001b[0m\u001b[32m\u001b[1m\u001b[0m\n",
      "\u001b[35m2022-02-14 22:56:56.887 \u001b[0m\u001b[1mWorkflow starting (run-id 1644908216882171):\u001b[0m\n",
      "\u001b[35m2022-02-14 22:56:56.893 \u001b[0m\u001b[32m[1644908216882171/start/1 (pid 41032)] \u001b[0m\u001b[1mTask is starting.\u001b[0m\n",
      "\u001b[35m2022-02-14 22:56:57.568 \u001b[0m\u001b[32m[1644908216882171/start/1 (pid 41032)] \u001b[0m\u001b[22mthis is the start\u001b[0m\n",
      "\u001b[35m2022-02-14 22:56:57.640 \u001b[0m\u001b[32m[1644908216882171/start/1 (pid 41032)] \u001b[0m\u001b[1mTask finished successfully.\u001b[0m\n",
      "\u001b[35m2022-02-14 22:56:57.647 \u001b[0m\u001b[32m[1644908216882171/end/2 (pid 41037)] \u001b[0m\u001b[1mTask is starting.\u001b[0m\n",
      "\u001b[35m2022-02-14 22:56:58.300 \u001b[0m\u001b[32m[1644908216882171/end/2 (pid 41037)] \u001b[0m\u001b[22mthis is the end\u001b[0m\n",
      "\u001b[35m2022-02-14 22:56:58.371 \u001b[0m\u001b[32m[1644908216882171/end/2 (pid 41037)] \u001b[0m\u001b[1mTask finished successfully.\u001b[0m\n",
      "\u001b[35m2022-02-14 22:56:58.372 \u001b[0m\u001b[1mDone!\u001b[0m\n",
      "\u001b[0m"
     ]
    }
   ],
   "source": [
    "!python myflow.py run"
   ]
  }
 ],
 "metadata": {
  "kernelspec": {
   "display_name": "Python 3.9.7 ('base')",
   "language": "python",
   "name": "python397jvsc74a57bd042fd40e048e0585f88ec242f050f7ef0895cf845a8dd1159352394e5826cd102"
  },
  "language_info": {
   "codemirror_mode": {
    "name": "ipython",
    "version": 3
   },
   "file_extension": ".py",
   "mimetype": "text/x-python",
   "name": "python",
   "nbconvert_exporter": "python",
   "pygments_lexer": "ipython3",
   "version": "3.9.7"
  }
 },
 "nbformat": 4,
 "nbformat_minor": 5
}
