{
 "cells": [
  {
   "cell_type": "code",
   "execution_count": 1,
   "id": "00e4a706-f9f4-416d-9776-d69b859a196e",
   "metadata": {},
   "outputs": [
    {
     "name": "stdout",
     "output_type": "stream",
     "text": [
      "/Users/hamel/opt/anaconda3/lib/python3.9/site-packages/papermill/iorw.py:50: FutureWarning: pyarrow.HadoopFileSystem is deprecated as of 2.0.0, please use pyarrow.fs.HadoopFileSystem instead.\n",
      "  from pyarrow import HadoopFileSystem\n",
      "\u001b[35m\u001b[1mMetaflow 2.5.0.post6+git62f5e52\u001b[0m\u001b[35m\u001b[22m executing \u001b[0m\u001b[31m\u001b[1mMyFlow\u001b[0m\u001b[35m\u001b[22m\u001b[0m\u001b[35m\u001b[22m for \u001b[0m\u001b[31m\u001b[1muser:hamel\u001b[0m\u001b[35m\u001b[22m\u001b[K\u001b[0m\u001b[35m\u001b[22m\u001b[0m\n",
      "\u001b[35m\u001b[22mValidating your flow...\u001b[K\u001b[0m\u001b[35m\u001b[22m\u001b[0m\n",
      "\u001b[32m\u001b[1m    The graph looks good!\u001b[K\u001b[0m\u001b[32m\u001b[1m\u001b[0m\n",
      "\u001b[35m\u001b[22mRunning pylint...\u001b[K\u001b[0m\u001b[35m\u001b[22m\u001b[0m\n",
      "\u001b[32m\u001b[1m    Pylint is happy!\u001b[K\u001b[0m\u001b[32m\u001b[1m\u001b[0m\n",
      "\u001b[35m2022-02-14 22:09:32.268 \u001b[0m\u001b[1mWorkflow starting (run-id 1644905372263674):\u001b[0m\n",
      "\u001b[35m2022-02-14 22:09:32.276 \u001b[0m\u001b[32m[1644905372263674/start/1 (pid 39835)] \u001b[0m\u001b[1mTask is starting.\u001b[0m\n",
      "\u001b[35m2022-02-14 22:09:33.333 \u001b[0m\u001b[32m[1644905372263674/start/1 (pid 39835)] \u001b[0m\u001b[22m/Users/hamel/opt/anaconda3/lib/python3.9/site-packages/papermill/iorw.py:50: FutureWarning: pyarrow.HadoopFileSystem is deprecated as of 2.0.0, please use pyarrow.fs.HadoopFileSystem instead.\u001b[0m\n",
      "\u001b[35m2022-02-14 22:09:33.536 \u001b[0m\u001b[32m[1644905372263674/start/1 (pid 39835)] \u001b[0m\u001b[22mthis is the start\u001b[0m\n",
      "\u001b[35m2022-02-14 22:09:33.621 \u001b[0m\u001b[32m[1644905372263674/start/1 (pid 39835)] \u001b[0m\u001b[22mfrom pyarrow import HadoopFileSystem\u001b[0m\n",
      "\u001b[35m2022-02-14 22:09:33.623 \u001b[0m\u001b[32m[1644905372263674/start/1 (pid 39835)] \u001b[0m\u001b[1mTask finished successfully.\u001b[0m\n",
      "\u001b[35m2022-02-14 22:09:33.631 \u001b[0m\u001b[32m[1644905372263674/end/2 (pid 39840)] \u001b[0m\u001b[1mTask is starting.\u001b[0m\n",
      "\u001b[35m2022-02-14 22:09:34.698 \u001b[0m\u001b[32m[1644905372263674/end/2 (pid 39840)] \u001b[0m\u001b[22m/Users/hamel/opt/anaconda3/lib/python3.9/site-packages/papermill/iorw.py:50: FutureWarning: pyarrow.HadoopFileSystem is deprecated as of 2.0.0, please use pyarrow.fs.HadoopFileSystem instead.\u001b[0m\n",
      "\u001b[35m2022-02-14 22:09:34.910 \u001b[0m\u001b[32m[1644905372263674/end/2 (pid 39840)] \u001b[0m\u001b[22mthis is the end\u001b[0m\n",
      "\u001b[35m2022-02-14 22:09:35.002 \u001b[0m\u001b[32m[1644905372263674/end/2 (pid 39840)] \u001b[0m\u001b[22mfrom pyarrow import HadoopFileSystem\u001b[0m\n",
      "\u001b[35m2022-02-14 22:09:35.004 \u001b[0m\u001b[32m[1644905372263674/end/2 (pid 39840)] \u001b[0m\u001b[1mTask finished successfully.\u001b[0m\n",
      "\u001b[35m2022-02-14 22:09:35.004 \u001b[0m\u001b[1mDone!\u001b[0m\n",
      "\u001b[0m"
     ]
    }
   ],
   "source": [
    "!python myflow.py run"
   ]
  }
 ],
 "metadata": {
  "kernelspec": {
   "display_name": "Python 3.9.7 ('base')",
   "language": "python",
   "name": "python397jvsc74a57bd042fd40e048e0585f88ec242f050f7ef0895cf845a8dd1159352394e5826cd102"
  },
  "language_info": {
   "codemirror_mode": {
    "name": "ipython",
    "version": 3
   },
   "file_extension": ".py",
   "mimetype": "text/x-python",
   "name": "python",
   "nbconvert_exporter": "python",
   "pygments_lexer": "ipython3",
   "version": "3.9.7"
  }
 },
 "nbformat": 4,
 "nbformat_minor": 5
}
