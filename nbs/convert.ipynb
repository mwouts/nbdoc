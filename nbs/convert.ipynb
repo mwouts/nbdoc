{
 "cells": [
  {
   "cell_type": "code",
   "execution_count": 1,
   "id": "510ed03d-0c3b-4caf-910d-e6eaec08fd63",
   "metadata": {},
   "outputs": [],
   "source": [
    "#default_exp convert"
   ]
  },
  {
   "cell_type": "code",
   "execution_count": 2,
   "id": "3191cc5f-3119-4cf7-baf7-774d0f70cf99",
   "metadata": {},
   "outputs": [],
   "source": [
    "#export\n",
    "from nbdoc.mdx import get_mdx_exporter\n",
    "from typing import Union\n",
    "from nbdev.export import nbglob\n",
    "from nbconvert.exporters import Exporter\n",
    "from fastcore.all import Path"
   ]
  },
  {
   "cell_type": "markdown",
   "id": "82f1d405-9652-4991-9a2c-24cae862ce46",
   "metadata": {},
   "source": [
    "# Convert Jupyter Notebooks To MDX Files\n",
    "\n",
    "> Utilities that help you go from .ipynb -> .md"
   ]
  },
  {
   "cell_type": "code",
   "execution_count": 3,
   "id": "8eca700a-bf7e-4f47-9b3c-0f6c850f2166",
   "metadata": {},
   "outputs": [],
   "source": [
    "#export\n",
    "def nb2md(fname:Union[str, Path], exp:Exporter):\n",
    "    \"Convert a notebook in `fname` to a markdown file.\"\n",
    "    file = Path(fname)\n",
    "    assert file.name.endswith('.ipynb'), f'{str(fname)} is not a notebook.'\n",
    "    assert file.is_file(), f'file {str(fname)} not found.'\n",
    "    o,r = exp.from_filename(fname)\n",
    "    file.with_suffix('.md').write_text(o)"
   ]
  },
  {
   "cell_type": "markdown",
   "id": "f7ea4007-fea2-4e3e-9063-0cd081debf73",
   "metadata": {},
   "source": [
    "We can use `nb2md` to convert a notebook to a markdown file with an `Exporter`.  Below, we use the exporter given to us by `nbdoc.mdx.get_mdx_exporter` and use that to create a markdown file from a notebook."
   ]
  },
  {
   "cell_type": "code",
   "execution_count": 4,
   "id": "ba05c6b8-f92f-4f7b-9a89-c4924466ad74",
   "metadata": {},
   "outputs": [],
   "source": [
    "_test_fname = Path('test_files/example_input.ipynb')\n",
    "_test_dest = Path('test_files/example_input.md')\n",
    "_test_dest.unlink()\n",
    "assert not _test_dest.exists() # make sure the markdown file doesn't exist\n",
    "\n",
    "nb2md(fname=_test_fname, exp = get_mdx_exporter()) # create the markdown file\n",
    "assert _test_dest.exists() # make sure the markdown file does exist\n",
    "assert len(_test_dest.readlines()) > 10"
   ]
  },
  {
   "cell_type": "code",
   "execution_count": 5,
   "id": "f07b4857-121b-4a6d-b917-8e6fd48ae576",
   "metadata": {},
   "outputs": [
    {
     "name": "stdout",
     "output_type": "stream",
     "text": [
      "---\n",
      "title: my hello page title\n",
      "description: my hello page description\n",
      "hide_table_of_contents: true\n",
      "---\n",
      "## This is a test notebook\n",
      "\n",
      "This is a shell command:\n",
      "\n",
      "\n",
      "```bash\n",
      "echo hello\n",
      "```\n",
      "\n",
      "    hello\n",
      "\n",
      "\n",
      "We are writing a python script to disk:\n",
      "\n",
      "\n",
      "```py title=\"myflow.py\"\n",
      "from metaflow import FlowSpec, step\n",
      "\n",
      "class MyFlow(FlowSpec):\n",
      "    \n",
      "    @step\n",
      "    def start(self):\n",
      "        print('this is the start')\n",
      "        self.next(self.end)\n",
      "    \n",
      "    @step\n",
      "    def end(self):\n",
      "        print('this is the end')\n",
      "\n",
      "if __name__ == '__main__':\n",
      "    MyFlow()\n",
      "```\n",
      "\n",
      "Another shell command where we run a flow:\n",
      "\n",
      "\n",
      "```bash\n",
      "python myflow.py run\n",
      "```\n",
      "\n",
      "    2022-02-15 14:11:09.224 [1644963069213536/start/1 (pid 46840)] Task is starting.\n",
      "    2022-02-15 14:11:09.858 [1644963069213536/start/1 (pid 46840)] this is the start\n",
      "    2022-02-15 14:11:09.929 [1644963069213536/start/1 (pid 46840)] Task finished successfully.\n",
      "    ...\n",
      "\n",
      "This is a normal python cell:\n",
      "\n",
      "\n",
      "\n",
      "\n",
      "    2\n",
      "\n",
      "\n",
      "\n",
      "The next cell has a cell tag of `remove_input`, so you should only see the output of the cell:\n",
      "\n",
      "    hello, you should not see the print statement that produced me\n",
      "\n"
     ]
    }
   ],
   "source": [
    "!cat {_test_dest}"
   ]
  }
 ],
 "metadata": {
  "kernelspec": {
   "display_name": "Python 3.9.7 ('base')",
   "language": "python",
   "name": "python397jvsc74a57bd042fd40e048e0585f88ec242f050f7ef0895cf845a8dd1159352394e5826cd102"
  },
  "language_info": {
   "codemirror_mode": {
    "name": "ipython",
    "version": 3
   },
   "file_extension": ".py",
   "mimetype": "text/x-python",
   "name": "python",
   "nbconvert_exporter": "python",
   "pygments_lexer": "ipython3",
   "version": "3.9.7"
  }
 },
 "nbformat": 4,
 "nbformat_minor": 5
}
